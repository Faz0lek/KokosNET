{
 "cells": [
  {
   "cell_type": "code",
   "execution_count": 1,
   "id": "97ccf1bc",
   "metadata": {},
   "outputs": [
    {
     "name": "stderr",
     "output_type": "stream",
     "text": [
      "\n"
     ]
    }
   ],
   "source": [
    "# First, add src into import path, so Agent module could safely import other modules needed\n",
    "import sys\n",
    "sys.path.insert(0, \"./src/\")\n",
    "from src import Agent"
   ]
  },
  {
   "cell_type": "code",
   "execution_count": 2,
   "id": "68845328",
   "metadata": {},
   "outputs": [],
   "source": [
    "a = Agent.Agent()"
   ]
  },
  {
   "cell_type": "code",
   "execution_count": 3,
   "id": "ccef21b1",
   "metadata": {},
   "outputs": [
    {
     "name": "stderr",
     "output_type": "stream",
     "text": [
      "/home/mglos/skola/KNN/KokosNET/./src/networkUtils.py:23: UserWarning: Implicit dimension choice for softmax has been deprecated. Change the call to include dim=X as an argument.\n",
      "  x = layer(x)\n",
      "/home/mglos/skola/KNN/KokosNET/src/Agent.py:132: VisibleDeprecationWarning: Creating an ndarray from ragged nested sequences (which is a list-or-tuple of lists-or-tuples-or ndarrays with different lengths or shapes) is deprecated. If you meant to do this, you must specify 'dtype=object' when creating the ndarray.\n",
      "  [np.array(env.step(action.item())) for action, env in zip(actions, envs)]).transpose()\n"
     ]
    },
    {
     "name": "stdout",
     "output_type": "stream",
     "text": [
      "Epoch: 50\tCumulative reward: 16.46\n",
      "Epoch: 100\tCumulative reward: 14.28\n",
      "Epoch: 150\tCumulative reward: 12.3\n",
      "Epoch: 200\tCumulative reward: 13.36\n",
      "Epoch: 250\tCumulative reward: 11.14\n",
      "Epoch: 300\tCumulative reward: 11.04\n",
      "Epoch: 351\tCumulative reward: 11.313725490196079\n",
      "Epoch: 402\tCumulative reward: 17.686274509803923\n",
      "Epoch: 453\tCumulative reward: 16.352941176470587\n",
      "Epoch: 503\tCumulative reward: 17.14\n",
      "Epoch: 554\tCumulative reward: 16.11764705882353\n",
      "Epoch: 604\tCumulative reward: 21.66\n",
      "Epoch: 654\tCumulative reward: 14.66\n",
      "Epoch: 705\tCumulative reward: 18.470588235294116\n",
      "Epoch: 756\tCumulative reward: 18.03921568627451\n",
      "Epoch: 808\tCumulative reward: 18.153846153846153\n",
      "Epoch: 858\tCumulative reward: 18.06\n",
      "Epoch: 908\tCumulative reward: 17.1\n",
      "Epoch: 958\tCumulative reward: 15.7\n"
     ]
    }
   ],
   "source": [
    "a.train()"
   ]
  },
  {
   "cell_type": "code",
   "execution_count": null,
   "id": "819c81b1",
   "metadata": {},
   "outputs": [],
   "source": []
  }
 ],
 "metadata": {
  "kernelspec": {
   "display_name": "Python 3 (ipykernel)",
   "language": "python",
   "name": "python3"
  },
  "language_info": {
   "codemirror_mode": {
    "name": "ipython",
    "version": 3
   },
   "file_extension": ".py",
   "mimetype": "text/x-python",
   "name": "python",
   "nbconvert_exporter": "python",
   "pygments_lexer": "ipython3",
   "version": "3.8.12"
  }
 },
 "nbformat": 4,
 "nbformat_minor": 5
}
