{
 "cells": [
  {
   "cell_type": "code",
   "execution_count": 49,
   "id": "3bde226f",
   "metadata": {},
   "outputs": [],
   "source": [
    "import torch\n",
    "import torch.nn as nn\n",
    "import torch.nn.functional as F\n",
    "from torch import optim\n",
    "from torch.distributions import Categorical, Normal\n",
    "from torchsummary import summary\n",
    "import pickle\n",
    "import os\n",
    "import gym\n",
    "from gym.wrappers import Monitor\n",
    "from tqdm import tqdm\n",
    "import numpy as np\n",
    "import time\n",
    "from pyvirtualdisplay import Display\n",
    "from IPython import display as ipythondisplay\n",
    "from pathlib import Path\n",
    "from IPython.display import clear_output\n",
    "import random, os.path, math, glob, csv, base64, itertools, sys\n",
    "import matplotlib.pyplot as plt\n",
    "\n",
    "display = Display(visible=0, size=(1400, 900))\n",
    "display.start();"
   ]
  },
  {
   "cell_type": "code",
   "execution_count": 50,
   "id": "540caccd",
   "metadata": {},
   "outputs": [],
   "source": [
    "def to_tensor(x):\n",
    "    \"\"\"Convert array into pytorch tensor\"\"\"\n",
    "\n",
    "    if not isinstance(x, np.ndarray):\n",
    "        x = np.array(x)\n",
    "\n",
    "    return torch.from_numpy(x).float()\n",
    "\n",
    "def to_numpy(x):\n",
    "    \"\"\"Convert tensor into numpy array\"\"\"\n",
    "    return x.numpy()"
   ]
  },
  {
   "cell_type": "code",
   "execution_count": 3,
   "id": "3c246701",
   "metadata": {},
   "outputs": [],
   "source": [
    "class FlexibleDenseNet(nn.Module):\n",
    "    def __init__(self, layers=[64,32,16,8,4], activations=nn.ReLU, last_activation=None):\n",
    "        '''Initialize flexible (by list of dimensions defined) densely connected network module.'''\n",
    "        # Save the model structure\n",
    "        self.model = nn.ModuleList()\n",
    "        # Plan the activations - will be an activation function or None in case of no activation layer wanted\n",
    "        activ = ([activations] * len(layers) - 1)\n",
    "        activ.append(last_activation)\n",
    "        # Create layers\n",
    "        for i, layer in enumerate(layers[-1:]):\n",
    "            self.model.append(nn.Linear(layers[i], layers[i+1]))\n",
    "            if activ[i]:\n",
    "                self.model.append(activ[i]())\n",
    "        \n",
    "        def forward(self, x):\n",
    "            # Iterate through each layer of model, return the last value\n",
    "            for layer in self.model:\n",
    "                x = layer(x)\n",
    "            return x\n",
    "        \n",
    "\n",
    "class ActorCritic(nn.Module):\n",
    "    def __init__(self, observation_space, action_space, hidden_layers=[512, 512, 256],\n",
    "                 policy_layers=[32, 8], value_layers=[32, 8], policy_activation=nn.Softmax,\n",
    "                 value_activation=None, activations=nn.ReLU):\n",
    "        super().__init__()\n",
    "        # Initialize the common model\n",
    "        self.model = FlexibleDenseNet(hidden_layers, activations=activations, last_activation=activations)\n",
    "        # Initialize policy submodel\n",
    "        self.policy = FlexibleDenseNet(policy_layers, activations=activations, last_activation=policy_activation)\n",
    "        # Endpoint for values\n",
    "        self.value = FlexibleDenseNet(value_layers, activations=activations, last_activation=value_activation)\n",
    "        \n",
    "    def forward(self, x):\n",
    "        # Apply common model\n",
    "        common = self.model(x)\n",
    "        # Policy\n",
    "        p = self.policy(common)\n",
    "        # Value\n",
    "        v = self.value(common)\n",
    "        return v, p"
   ]
  },
  {
   "cell_type": "code",
   "execution_count": 45,
   "id": "604d2b00",
   "metadata": {},
   "outputs": [],
   "source": [
    "class Agent:\n",
    "    def __init__(self, lr=0.0003, gamma=0.995, environment=\"Pendulum-v1\", beta=0.05,\n",
    "                 discrete=False, sample_std=0.1, h=[], p=[], v=[], gyms=16):\n",
    "        self.beta = beta                                  # Beta for entropy (actor loss)\n",
    "        self.lr = lr                                      # Learning rate\n",
    "        self.gamma = gamma                                # Gamma for discounting late actions\n",
    "        self.env = gym.make(environment)                  # Init env\n",
    "        self.discrete = discrete                          # Discrete env\n",
    "        self.best = None                                  # Path to best model (highest reward)\n",
    "        \n",
    "        self.sample_std = sample_std if sample_std else 0.04         # STD for sampling action from policy distribution\n",
    "        self.observation_space = self.env.observation_space.shape[0] # Env output vector size\n",
    "        # Actuator vector size\n",
    "        self.n_actions = self.env.action_space.n if self.discrete else self.env.action_space.shape[0]\n",
    "        # Monitor wrapper to see the env\n",
    "        self.monitor_env = Monitor(self.env, \"./videos\", force=True, video_callable=lambda episode: True)\n",
    "\n",
    "        # Initialize actor-critic and it's optimizer\n",
    "        self.actor_critic = ActorCritic(self.observation_space, self.n_actions,\n",
    "                                       policy_layers=p, value_layers=v, hidden_layers=h)\n",
    "        self.optimizer = optim.Adam(self.actor_critic.parameters(), self.lr)\n",
    "\n",
    "    def unpickle_self(cls, path):\n",
    "        '''Unpickle self from provided path'''\n",
    "        with open(path, \"rb\") as pfile:\n",
    "            self = pickle.load(pfile)\n",
    "        \n",
    "    def load_best(self):\n",
    "        '''Loads weights of best NN this object experienced'''\n",
    "        self.load_weights(self.best)\n",
    "        \n",
    "    def load_weights(self, path):\n",
    "        '''Load weights from provided path'''\n",
    "        # Load weights\n",
    "        weights_new = torch.load(path)\n",
    "        # Initialize new model, load it's new weights and reinitialize optimizer\n",
    "        self.actor_critic = ActorCritic(self.observation_space, self.n_actions)\n",
    "        self.actor_critic.load_state_dict(weights_new)\n",
    "        self.optimizer = optim.Adam(self.actor_critic.parameters(), self.lr)\n",
    "        \n",
    "    def save_model(self, path=\"basic\", directory=\"models\", selfpickle=False):\n",
    "        '''Save model (as NN params or pickle of Agent)'''\n",
    "        # Create topdir\n",
    "        os.makedirs(directory, exist_ok=True)\n",
    "        if selfpickle:       # Pickle object\n",
    "            with open(os.path.join(directory, path + \".p\"), \"wb\") as pfile:\n",
    "                pickle.dump(self, pfile)\n",
    "            return os.path.join(directory, path + \".p\")\n",
    "        else:                # Pickle neural network\n",
    "            torch.save(self.actor_critic.state_dict(), os.path.join(directory, path))\n",
    "            return os.path.join(directory, path)\n",
    "    \n",
    "    def save_video(self):\n",
    "        '''Save or show video of agent trying its best'''\n",
    "        self.run(epochs=1,train=False,visualize=True)\n",
    "        print(f\"Reward: {self.history['score'][-1]}\")\n",
    "        html = []\n",
    "        for mp4 in Path('./videos').glob(\"*.mp4\"):\n",
    "            video_b64 = base64.b64encode(mp4.read_bytes())\n",
    "            html.append('''<video alt=\"{}\" autoplay \n",
    "                        loop controls style=\"height: 400px;\">\n",
    "                        <source src=\"data:video/mp4;base64,{}\" type=\"video/mp4\" />\n",
    "                    </video>'''.format(mp4, video_b64.decode('ascii')))\n",
    "        ipythondisplay.display(ipythondisplay.HTML(data=\"<br>\".join(html)))\n",
    "    \n",
    "    \n",
    "    def choose_action(self, observation):\n",
    "        '''Choose next action based on observation'''\n",
    "        # Get actions from actor-critic\n",
    "        state = to_tensor(observation.reshape(-1, 1, self.observation_space))\n",
    "        _, policy = self.actor_critic(state)\n",
    "        # Categorical for discreet env, distribution over probability for continuous env\n",
    "        if self.discrete:\n",
    "            action_probabilities = Categorical(policy)\n",
    "        else:\n",
    "            action_probabilities = Normal(policy, self.sample_std)\n",
    "        # Sample from distribution and store the action\n",
    "        action = action_probabilities.sample()\n",
    "        log_prob = action_probabilities.log_prob(action)\n",
    "        self.action = action\n",
    "        # Reduce dimensions\n",
    "        return action.numpy()[0]\n",
    "    \n",
    "\n",
    "    def learn(self, state, state_, reward, done):\n",
    "        '''Perform single learning step'''\n",
    "        # Adjust types and sizes\n",
    "        state, state_, reward = to_tensor(state), to_tensor(state_), to_tensor(reward)\n",
    "        state = state.reshape(-1, 1, self.observation_space)\n",
    "        state_ = state_.reshape(-1, 1, self.observation_space)\n",
    "        \n",
    "        # Inference NN and reduce dimensions of it's result\n",
    "        state_val, policy = self.actor_critic(state)\n",
    "        state_val_, _ = self.actor_critic(state_)\n",
    "        state_val = state_val[0]\n",
    "        state_val_ = state_val_[0]\n",
    "        \n",
    "        # Handle descrete and continuous\n",
    "        if self.discrete:\n",
    "            policy_distribution =  Categorical(policy)\n",
    "        else:\n",
    "            policy_distribution = Normal(policy, self.sample_std)\n",
    "        # Caluclate loss/gradients\n",
    "        log_policy = policy_distribution.log_prob(self.action)\n",
    "        entropy = policy_distribution.entropy().mean()\n",
    "\n",
    "        delta = reward + self.gamma * state_val_ * (1 - int(done)) - state_val\n",
    "        actor_loss = - log_policy * delta - entropy * self.beta\n",
    "        critic_loss = delta ** 2\n",
    "        total_loss = actor_loss + critic_loss\n",
    "        \n",
    "        # Apply gradients\n",
    "        self.optimizer.zero_grad()\n",
    "        total_loss.backward()\n",
    "        # Restrain gradients\n",
    "        nn.utils.clip_grad_norm_([p for g in self.optimizer.param_groups for p in g[\"params\"]], 0.5)\n",
    "        self.optimizer.step()\n",
    "    \n",
    "    def run(self, epochs=200, max_steps=128, train=True, visualize=False, dirs=\"kokos1\"):\n",
    "        '''Run inference in loops - evaluation or training'''\n",
    "        # MEMORY\n",
    "        self.history = {\n",
    "            \"score\": [],\n",
    "        }\n",
    "        cache = []\n",
    "        max_reward = float('-inf')\n",
    "        # Visualization wrapper\n",
    "        env = self.monitor_env if visualize else self.env\n",
    "\n",
    "        for epoch in tqdm(range(epochs)):\n",
    "            observation = env.reset()    # For each epoch - reset env\n",
    "            done = False                 # Agent not done\n",
    "            rewards = 0                  # Cumulative rewards per epoch\n",
    "            while not done:\n",
    "                # Choose action to perform -> step the env\n",
    "                action = self.choose_action(observation)\n",
    "                observation_, reward, done, info = env.step(action[0])\n",
    "                rewards += reward\n",
    "                if train:    # Apply training if required\n",
    "                    self.learn(observation, observation_, reward, done)\n",
    "                observation = observation_\n",
    "            # Keep track of best reward agent\n",
    "            if rewards >= max_reward:\n",
    "                max_reward = rewards\n",
    "                self.best = self.save_model(path=f\"e{epoch}_r{rewards}\", selfpickle=False, directory=dirs)\n",
    "            # Some printing, clearing cache\n",
    "            self.history[\"score\"].append(rewards)\n",
    "            cache.append(rewards)\n",
    "            if not ((epoch + 1) % 50):  \n",
    "                print(f'Run {epoch + 1}. - reward: {int(sum(cache)/len(cache))}')\n",
    "                cache.clear()\n",
    "        env.close()\n",
    "        return self.history"
   ]
  },
  {
   "cell_type": "code",
   "execution_count": 18,
   "id": "926307e8",
   "metadata": {},
   "outputs": [
    {
     "name": "stderr",
     "output_type": "stream",
     "text": [
      "  1%|▍                                        | 51/5000 [00:03<09:10,  9.00it/s]"
     ]
    },
    {
     "name": "stdout",
     "output_type": "stream",
     "text": [
      "Run 50. - reward: 28\n"
     ]
    },
    {
     "name": "stderr",
     "output_type": "stream",
     "text": [
      "  2%|▊                                       | 101/5000 [00:08<09:42,  8.41it/s]"
     ]
    },
    {
     "name": "stdout",
     "output_type": "stream",
     "text": [
      "Run 100. - reward: 32\n"
     ]
    },
    {
     "name": "stderr",
     "output_type": "stream",
     "text": [
      "  3%|█▏                                      | 151/5000 [00:13<12:44,  6.35it/s]"
     ]
    },
    {
     "name": "stdout",
     "output_type": "stream",
     "text": [
      "Run 150. - reward: 43\n"
     ]
    },
    {
     "name": "stderr",
     "output_type": "stream",
     "text": [
      "  4%|█▌                                      | 201/5000 [00:18<09:08,  8.74it/s]"
     ]
    },
    {
     "name": "stdout",
     "output_type": "stream",
     "text": [
      "Run 200. - reward: 32\n"
     ]
    },
    {
     "name": "stderr",
     "output_type": "stream",
     "text": [
      "  5%|██                                      | 252/5000 [00:25<08:45,  9.03it/s]"
     ]
    },
    {
     "name": "stdout",
     "output_type": "stream",
     "text": [
      "Run 250. - reward: 53\n"
     ]
    },
    {
     "name": "stderr",
     "output_type": "stream",
     "text": [
      "  6%|██▍                                     | 301/5000 [00:30<07:17, 10.75it/s]"
     ]
    },
    {
     "name": "stdout",
     "output_type": "stream",
     "text": [
      "Run 300. - reward: 46\n"
     ]
    },
    {
     "name": "stderr",
     "output_type": "stream",
     "text": [
      "  7%|██▊                                     | 351/5000 [00:36<05:28, 14.14it/s]"
     ]
    },
    {
     "name": "stdout",
     "output_type": "stream",
     "text": [
      "Run 350. - reward: 40\n"
     ]
    },
    {
     "name": "stderr",
     "output_type": "stream",
     "text": [
      "  8%|███▏                                    | 401/5000 [00:42<12:44,  6.02it/s]"
     ]
    },
    {
     "name": "stdout",
     "output_type": "stream",
     "text": [
      "Run 400. - reward: 53\n"
     ]
    },
    {
     "name": "stderr",
     "output_type": "stream",
     "text": [
      "  9%|███▌                                    | 450/5000 [00:51<16:50,  4.50it/s]"
     ]
    },
    {
     "name": "stdout",
     "output_type": "stream",
     "text": [
      "Run 450. - reward: 68\n"
     ]
    },
    {
     "name": "stderr",
     "output_type": "stream",
     "text": [
      " 10%|████                                    | 501/5000 [01:00<23:31,  3.19it/s]"
     ]
    },
    {
     "name": "stdout",
     "output_type": "stream",
     "text": [
      "Run 500. - reward: 70\n"
     ]
    },
    {
     "name": "stderr",
     "output_type": "stream",
     "text": [
      " 11%|████▍                                   | 550/5000 [01:09<21:59,  3.37it/s]"
     ]
    },
    {
     "name": "stdout",
     "output_type": "stream",
     "text": [
      "Run 550. - reward: 45\n"
     ]
    },
    {
     "name": "stderr",
     "output_type": "stream",
     "text": [
      " 12%|████▊                                   | 601/5000 [01:23<11:03,  6.63it/s]"
     ]
    },
    {
     "name": "stdout",
     "output_type": "stream",
     "text": [
      "Run 600. - reward: 64\n"
     ]
    },
    {
     "name": "stderr",
     "output_type": "stream",
     "text": [
      " 13%|█████▏                                  | 651/5000 [01:36<12:27,  5.82it/s]"
     ]
    },
    {
     "name": "stdout",
     "output_type": "stream",
     "text": [
      "Run 650. - reward: 69\n"
     ]
    },
    {
     "name": "stderr",
     "output_type": "stream",
     "text": [
      " 14%|█████▌                                  | 703/5000 [01:54<10:15,  6.98it/s]"
     ]
    },
    {
     "name": "stdout",
     "output_type": "stream",
     "text": [
      "Run 700. - reward: 104\n"
     ]
    },
    {
     "name": "stderr",
     "output_type": "stream",
     "text": [
      " 15%|██████                                  | 750/5000 [02:05<10:46,  6.57it/s]"
     ]
    },
    {
     "name": "stdout",
     "output_type": "stream",
     "text": [
      "Run 750. - reward: 84\n"
     ]
    },
    {
     "name": "stderr",
     "output_type": "stream",
     "text": [
      " 16%|██████▍                                 | 800/5000 [02:18<11:25,  6.13it/s]"
     ]
    },
    {
     "name": "stdout",
     "output_type": "stream",
     "text": [
      "Run 800. - reward: 70\n"
     ]
    },
    {
     "name": "stderr",
     "output_type": "stream",
     "text": [
      " 17%|██████▊                                 | 850/5000 [02:38<18:47,  3.68it/s]"
     ]
    },
    {
     "name": "stdout",
     "output_type": "stream",
     "text": [
      "Run 850. - reward: 85\n"
     ]
    },
    {
     "name": "stderr",
     "output_type": "stream",
     "text": [
      " 18%|██████▊                               | 900/5000 [03:07<1:12:39,  1.06s/it]"
     ]
    },
    {
     "name": "stdout",
     "output_type": "stream",
     "text": [
      "Run 900. - reward: 166\n"
     ]
    },
    {
     "name": "stderr",
     "output_type": "stream",
     "text": [
      " 19%|███████▌                                | 952/5000 [03:21<13:35,  4.96it/s]"
     ]
    },
    {
     "name": "stdout",
     "output_type": "stream",
     "text": [
      "Run 950. - reward: 98\n"
     ]
    },
    {
     "name": "stderr",
     "output_type": "stream",
     "text": [
      " 20%|███████▊                               | 1000/5000 [03:38<13:34,  4.91it/s]"
     ]
    },
    {
     "name": "stdout",
     "output_type": "stream",
     "text": [
      "Run 1000. - reward: 71\n"
     ]
    },
    {
     "name": "stderr",
     "output_type": "stream",
     "text": [
      " 21%|████████▏                              | 1050/5000 [03:53<25:35,  2.57it/s]"
     ]
    },
    {
     "name": "stdout",
     "output_type": "stream",
     "text": [
      "Run 1050. - reward: 65\n"
     ]
    },
    {
     "name": "stderr",
     "output_type": "stream",
     "text": [
      " 22%|████████▌                              | 1101/5000 [04:10<24:46,  2.62it/s]"
     ]
    },
    {
     "name": "stdout",
     "output_type": "stream",
     "text": [
      "Run 1100. - reward: 67\n"
     ]
    },
    {
     "name": "stderr",
     "output_type": "stream",
     "text": [
      " 23%|████████▉                              | 1151/5000 [04:25<12:09,  5.28it/s]"
     ]
    },
    {
     "name": "stdout",
     "output_type": "stream",
     "text": [
      "Run 1150. - reward: 93\n"
     ]
    },
    {
     "name": "stderr",
     "output_type": "stream",
     "text": [
      " 24%|█████████▎                             | 1200/5000 [04:52<26:32,  2.39it/s]"
     ]
    },
    {
     "name": "stdout",
     "output_type": "stream",
     "text": [
      "Run 1200. - reward: 134\n"
     ]
    },
    {
     "name": "stderr",
     "output_type": "stream",
     "text": [
      " 25%|█████████▊                             | 1250/5000 [05:21<24:45,  2.53it/s]"
     ]
    },
    {
     "name": "stdout",
     "output_type": "stream",
     "text": [
      "Run 1250. - reward: 120\n"
     ]
    },
    {
     "name": "stderr",
     "output_type": "stream",
     "text": [
      " 26%|██████████▏                            | 1301/5000 [05:36<13:38,  4.52it/s]"
     ]
    },
    {
     "name": "stdout",
     "output_type": "stream",
     "text": [
      "Run 1300. - reward: 88\n"
     ]
    },
    {
     "name": "stderr",
     "output_type": "stream",
     "text": [
      " 27%|██████████▌                            | 1350/5000 [05:52<11:05,  5.49it/s]"
     ]
    },
    {
     "name": "stdout",
     "output_type": "stream",
     "text": [
      "Run 1350. - reward: 79\n"
     ]
    },
    {
     "name": "stderr",
     "output_type": "stream",
     "text": [
      " 28%|██████████▉                            | 1404/5000 [06:43<11:15,  5.32it/s]"
     ]
    },
    {
     "name": "stdout",
     "output_type": "stream",
     "text": [
      "Run 1400. - reward: 239\n"
     ]
    },
    {
     "name": "stderr",
     "output_type": "stream",
     "text": [
      " 29%|███████████▎                           | 1452/5000 [07:08<06:59,  8.46it/s]"
     ]
    },
    {
     "name": "stdout",
     "output_type": "stream",
     "text": [
      "Run 1450. - reward: 85\n"
     ]
    },
    {
     "name": "stderr",
     "output_type": "stream",
     "text": [
      " 30%|███████████▋                           | 1500/5000 [07:12<05:13, 11.17it/s]"
     ]
    },
    {
     "name": "stdout",
     "output_type": "stream",
     "text": [
      "Run 1500. - reward: 11\n"
     ]
    },
    {
     "name": "stderr",
     "output_type": "stream",
     "text": [
      " 31%|████████████                           | 1551/5000 [07:37<08:49,  6.51it/s]"
     ]
    },
    {
     "name": "stdout",
     "output_type": "stream",
     "text": [
      "Run 1550. - reward: 72\n"
     ]
    },
    {
     "name": "stderr",
     "output_type": "stream",
     "text": [
      " 32%|████████████▍                          | 1601/5000 [08:04<25:40,  2.21it/s]"
     ]
    },
    {
     "name": "stdout",
     "output_type": "stream",
     "text": [
      "Run 1600. - reward: 84\n"
     ]
    },
    {
     "name": "stderr",
     "output_type": "stream",
     "text": [
      " 33%|████████████▉                          | 1651/5000 [08:21<27:00,  2.07it/s]"
     ]
    },
    {
     "name": "stdout",
     "output_type": "stream",
     "text": [
      "Run 1650. - reward: 61\n"
     ]
    },
    {
     "name": "stderr",
     "output_type": "stream",
     "text": [
      " 34%|████████████▌                        | 1700/5000 [08:52<1:25:36,  1.56s/it]"
     ]
    },
    {
     "name": "stdout",
     "output_type": "stream",
     "text": [
      "Run 1700. - reward: 90\n"
     ]
    },
    {
     "name": "stderr",
     "output_type": "stream",
     "text": [
      " 35%|█████████████▋                         | 1750/5000 [09:26<53:17,  1.02it/s]"
     ]
    },
    {
     "name": "stdout",
     "output_type": "stream",
     "text": [
      "Run 1750. - reward: 104\n"
     ]
    },
    {
     "name": "stderr",
     "output_type": "stream",
     "text": [
      " 36%|██████████████                         | 1801/5000 [09:46<05:09, 10.34it/s]"
     ]
    },
    {
     "name": "stdout",
     "output_type": "stream",
     "text": [
      "Run 1800. - reward: 74\n"
     ]
    },
    {
     "name": "stderr",
     "output_type": "stream",
     "text": [
      " 37%|██████████████▍                        | 1850/5000 [10:21<30:41,  1.71it/s]"
     ]
    },
    {
     "name": "stdout",
     "output_type": "stream",
     "text": [
      "Run 1850. - reward: 96\n"
     ]
    },
    {
     "name": "stderr",
     "output_type": "stream",
     "text": [
      " 38%|██████████████▊                        | 1900/5000 [10:46<12:45,  4.05it/s]"
     ]
    },
    {
     "name": "stdout",
     "output_type": "stream",
     "text": [
      "Run 1900. - reward: 74\n"
     ]
    },
    {
     "name": "stderr",
     "output_type": "stream",
     "text": [
      " 39%|███████████████▏                       | 1950/5000 [11:11<09:04,  5.60it/s]"
     ]
    },
    {
     "name": "stdout",
     "output_type": "stream",
     "text": [
      "Run 1950. - reward: 89\n"
     ]
    },
    {
     "name": "stderr",
     "output_type": "stream",
     "text": [
      " 40%|██████████████▊                      | 2001/5000 [12:05<1:19:24,  1.59s/it]"
     ]
    },
    {
     "name": "stdout",
     "output_type": "stream",
     "text": [
      "Run 2000. - reward: 158\n"
     ]
    },
    {
     "name": "stderr",
     "output_type": "stream",
     "text": [
      " 41%|████████████████                       | 2053/5000 [12:29<03:12, 15.35it/s]"
     ]
    },
    {
     "name": "stdout",
     "output_type": "stream",
     "text": [
      "Run 2050. - reward: 67\n"
     ]
    },
    {
     "name": "stderr",
     "output_type": "stream",
     "text": [
      " 42%|████████████████▍                      | 2101/5000 [12:45<07:00,  6.90it/s]"
     ]
    },
    {
     "name": "stdout",
     "output_type": "stream",
     "text": [
      "Run 2100. - reward: 50\n"
     ]
    },
    {
     "name": "stderr",
     "output_type": "stream",
     "text": [
      " 43%|████████████████▊                      | 2152/5000 [13:19<09:13,  5.15it/s]"
     ]
    },
    {
     "name": "stdout",
     "output_type": "stream",
     "text": [
      "Run 2150. - reward: 136\n"
     ]
    },
    {
     "name": "stderr",
     "output_type": "stream",
     "text": [
      " 44%|█████████████████▏                     | 2201/5000 [13:38<10:41,  4.36it/s]"
     ]
    },
    {
     "name": "stdout",
     "output_type": "stream",
     "text": [
      "Run 2200. - reward: 58\n"
     ]
    },
    {
     "name": "stderr",
     "output_type": "stream",
     "text": [
      " 45%|█████████████████▌                     | 2250/5000 [13:58<55:35,  1.21s/it]"
     ]
    },
    {
     "name": "stdout",
     "output_type": "stream",
     "text": [
      "Run 2250. - reward: 71\n"
     ]
    },
    {
     "name": "stderr",
     "output_type": "stream",
     "text": [
      " 46%|█████████████████▉                     | 2300/5000 [14:19<26:12,  1.72it/s]"
     ]
    },
    {
     "name": "stdout",
     "output_type": "stream",
     "text": [
      "Run 2300. - reward: 64\n"
     ]
    },
    {
     "name": "stderr",
     "output_type": "stream",
     "text": [
      " 47%|██████████████████▎                    | 2352/5000 [15:08<27:46,  1.59it/s]"
     ]
    },
    {
     "name": "stdout",
     "output_type": "stream",
     "text": [
      "Run 2350. - reward: 158\n"
     ]
    },
    {
     "name": "stderr",
     "output_type": "stream",
     "text": [
      " 48%|██████████████████▋                    | 2401/5000 [15:31<09:30,  4.56it/s]"
     ]
    },
    {
     "name": "stdout",
     "output_type": "stream",
     "text": [
      "Run 2400. - reward: 66\n"
     ]
    },
    {
     "name": "stderr",
     "output_type": "stream",
     "text": [
      " 49%|███████████████████                    | 2450/5000 [16:10<26:13,  1.62it/s]"
     ]
    },
    {
     "name": "stdout",
     "output_type": "stream",
     "text": [
      "Run 2450. - reward: 110\n"
     ]
    },
    {
     "name": "stderr",
     "output_type": "stream",
     "text": [
      " 50%|███████████████████▌                   | 2500/5000 [16:41<19:13,  2.17it/s]"
     ]
    },
    {
     "name": "stdout",
     "output_type": "stream",
     "text": [
      "Run 2500. - reward: 86\n"
     ]
    },
    {
     "name": "stderr",
     "output_type": "stream",
     "text": [
      " 51%|███████████████████▉                   | 2550/5000 [17:04<51:46,  1.27s/it]"
     ]
    },
    {
     "name": "stdout",
     "output_type": "stream",
     "text": [
      "Run 2550. - reward: 63\n"
     ]
    },
    {
     "name": "stderr",
     "output_type": "stream",
     "text": [
      " 52%|████████████████████▎                  | 2600/5000 [17:38<43:27,  1.09s/it]"
     ]
    },
    {
     "name": "stdout",
     "output_type": "stream",
     "text": [
      "Run 2600. - reward: 110\n"
     ]
    },
    {
     "name": "stderr",
     "output_type": "stream",
     "text": [
      " 53%|████████████████████▋                  | 2650/5000 [18:03<09:27,  4.14it/s]"
     ]
    },
    {
     "name": "stdout",
     "output_type": "stream",
     "text": [
      "Run 2650. - reward: 96\n"
     ]
    },
    {
     "name": "stderr",
     "output_type": "stream",
     "text": [
      " 54%|█████████████████████                  | 2701/5000 [18:22<19:48,  1.94it/s]"
     ]
    },
    {
     "name": "stdout",
     "output_type": "stream",
     "text": [
      "Run 2700. - reward: 90\n"
     ]
    },
    {
     "name": "stderr",
     "output_type": "stream",
     "text": [
      " 55%|█████████████████████▍                 | 2751/5000 [18:42<05:10,  7.24it/s]"
     ]
    },
    {
     "name": "stdout",
     "output_type": "stream",
     "text": [
      "Run 2750. - reward: 70\n"
     ]
    },
    {
     "name": "stderr",
     "output_type": "stream",
     "text": [
      " 56%|█████████████████████▊                 | 2800/5000 [19:06<24:49,  1.48it/s]"
     ]
    },
    {
     "name": "stdout",
     "output_type": "stream",
     "text": [
      "Run 2800. - reward: 88\n"
     ]
    },
    {
     "name": "stderr",
     "output_type": "stream",
     "text": [
      " 57%|██████████████████████▎                | 2854/5000 [19:27<06:49,  5.24it/s]"
     ]
    },
    {
     "name": "stdout",
     "output_type": "stream",
     "text": [
      "Run 2850. - reward: 85\n"
     ]
    },
    {
     "name": "stderr",
     "output_type": "stream",
     "text": [
      " 58%|██████████████████████▌                | 2899/5000 [19:41<06:22,  5.50it/s]"
     ]
    },
    {
     "name": "stdout",
     "output_type": "stream",
     "text": [
      "Run 2900. - reward: 73\n"
     ]
    },
    {
     "name": "stderr",
     "output_type": "stream",
     "text": [
      " 59%|███████████████████████                | 2950/5000 [20:05<05:42,  5.99it/s]"
     ]
    },
    {
     "name": "stdout",
     "output_type": "stream",
     "text": [
      "Run 2950. - reward: 85\n"
     ]
    },
    {
     "name": "stderr",
     "output_type": "stream",
     "text": [
      " 60%|███████████████████████▍               | 3002/5000 [20:33<12:03,  2.76it/s]"
     ]
    },
    {
     "name": "stdout",
     "output_type": "stream",
     "text": [
      "Run 3000. - reward: 96\n"
     ]
    },
    {
     "name": "stderr",
     "output_type": "stream",
     "text": [
      " 61%|███████████████████████▊               | 3051/5000 [20:54<06:29,  5.00it/s]"
     ]
    },
    {
     "name": "stdout",
     "output_type": "stream",
     "text": [
      "Run 3050. - reward: 89\n"
     ]
    },
    {
     "name": "stderr",
     "output_type": "stream",
     "text": [
      " 62%|████████████████████████▏              | 3101/5000 [21:12<06:23,  4.95it/s]"
     ]
    },
    {
     "name": "stdout",
     "output_type": "stream",
     "text": [
      "Run 3100. - reward: 85\n"
     ]
    },
    {
     "name": "stderr",
     "output_type": "stream",
     "text": [
      " 63%|████████████████████████▌              | 3151/5000 [21:32<06:46,  4.54it/s]"
     ]
    },
    {
     "name": "stdout",
     "output_type": "stream",
     "text": [
      "Run 3150. - reward: 70\n"
     ]
    },
    {
     "name": "stderr",
     "output_type": "stream",
     "text": [
      " 64%|████████████████████████▉              | 3201/5000 [21:55<07:06,  4.21it/s]"
     ]
    },
    {
     "name": "stdout",
     "output_type": "stream",
     "text": [
      "Run 3200. - reward: 81\n"
     ]
    },
    {
     "name": "stderr",
     "output_type": "stream",
     "text": [
      " 65%|█████████████████████████▎             | 3250/5000 [22:17<18:21,  1.59it/s]"
     ]
    },
    {
     "name": "stdout",
     "output_type": "stream",
     "text": [
      "Run 3250. - reward: 91\n"
     ]
    },
    {
     "name": "stderr",
     "output_type": "stream",
     "text": [
      " 66%|█████████████████████████▋             | 3301/5000 [22:37<15:22,  1.84it/s]"
     ]
    },
    {
     "name": "stdout",
     "output_type": "stream",
     "text": [
      "Run 3300. - reward: 91\n"
     ]
    },
    {
     "name": "stderr",
     "output_type": "stream",
     "text": [
      " 67%|██████████████████████████▏            | 3350/5000 [22:58<04:51,  5.67it/s]"
     ]
    },
    {
     "name": "stdout",
     "output_type": "stream",
     "text": [
      "Run 3350. - reward: 74\n"
     ]
    },
    {
     "name": "stderr",
     "output_type": "stream",
     "text": [
      " 68%|██████████████████████████▌            | 3402/5000 [23:21<06:08,  4.34it/s]"
     ]
    },
    {
     "name": "stdout",
     "output_type": "stream",
     "text": [
      "Run 3400. - reward: 82\n"
     ]
    },
    {
     "name": "stderr",
     "output_type": "stream",
     "text": [
      " 69%|██████████████████████████▉            | 3448/5000 [23:36<03:36,  7.15it/s]"
     ]
    },
    {
     "name": "stdout",
     "output_type": "stream",
     "text": [
      "Run 3450. - reward: 62\n"
     ]
    },
    {
     "name": "stderr",
     "output_type": "stream",
     "text": [
      " 70%|███████████████████████████▎           | 3500/5000 [23:51<09:23,  2.66it/s]"
     ]
    },
    {
     "name": "stdout",
     "output_type": "stream",
     "text": [
      "Run 3500. - reward: 79\n"
     ]
    },
    {
     "name": "stderr",
     "output_type": "stream",
     "text": [
      " 71%|███████████████████████████▋           | 3550/5000 [24:27<07:19,  3.30it/s]"
     ]
    },
    {
     "name": "stdout",
     "output_type": "stream",
     "text": [
      "Run 3550. - reward: 127\n"
     ]
    },
    {
     "name": "stderr",
     "output_type": "stream",
     "text": [
      " 72%|████████████████████████████           | 3601/5000 [24:48<06:31,  3.57it/s]"
     ]
    },
    {
     "name": "stdout",
     "output_type": "stream",
     "text": [
      "Run 3600. - reward: 73\n"
     ]
    },
    {
     "name": "stderr",
     "output_type": "stream",
     "text": [
      " 73%|████████████████████████████▍          | 3652/5000 [25:04<02:31,  8.92it/s]"
     ]
    },
    {
     "name": "stdout",
     "output_type": "stream",
     "text": [
      "Run 3650. - reward: 68\n"
     ]
    },
    {
     "name": "stderr",
     "output_type": "stream",
     "text": [
      " 74%|████████████████████████████▊          | 3700/5000 [25:21<12:04,  1.80it/s]"
     ]
    },
    {
     "name": "stdout",
     "output_type": "stream",
     "text": [
      "Run 3700. - reward: 84\n"
     ]
    },
    {
     "name": "stderr",
     "output_type": "stream",
     "text": [
      " 75%|█████████████████████████████▎         | 3751/5000 [25:47<04:35,  4.53it/s]"
     ]
    },
    {
     "name": "stdout",
     "output_type": "stream",
     "text": [
      "Run 3750. - reward: 92\n"
     ]
    },
    {
     "name": "stderr",
     "output_type": "stream",
     "text": [
      " 76%|█████████████████████████████▌         | 3790/5000 [26:12<08:22,  2.41it/s]\n"
     ]
    },
    {
     "ename": "KeyboardInterrupt",
     "evalue": "",
     "output_type": "error",
     "traceback": [
      "\u001b[0;31m---------------------------------------------------------------------------\u001b[0m",
      "\u001b[0;31mKeyboardInterrupt\u001b[0m                         Traceback (most recent call last)",
      "\u001b[0;32m/tmp/ipykernel_401365/1848758041.py\u001b[0m in \u001b[0;36m<module>\u001b[0;34m\u001b[0m\n\u001b[1;32m      1\u001b[0m \u001b[0magent00\u001b[0m \u001b[0;34m=\u001b[0m \u001b[0mAgent\u001b[0m\u001b[0;34m(\u001b[0m\u001b[0menvironment\u001b[0m\u001b[0;34m=\u001b[0m\u001b[0;34m\"CartPole-v1\"\u001b[0m\u001b[0;34m,\u001b[0m \u001b[0mdiscrete\u001b[0m\u001b[0;34m=\u001b[0m\u001b[0;32mTrue\u001b[0m\u001b[0;34m,\u001b[0m \u001b[0mgamma\u001b[0m\u001b[0;34m=\u001b[0m\u001b[0;36m0.997\u001b[0m\u001b[0;34m,\u001b[0m \u001b[0mbeta\u001b[0m\u001b[0;34m=\u001b[0m\u001b[0;36m0.1\u001b[0m\u001b[0;34m,\u001b[0m \u001b[0mh\u001b[0m\u001b[0;34m=\u001b[0m\u001b[0;34m[\u001b[0m\u001b[0;36m512\u001b[0m\u001b[0;34m,\u001b[0m \u001b[0;36m256\u001b[0m\u001b[0;34m]\u001b[0m\u001b[0;34m,\u001b[0m \u001b[0mp\u001b[0m\u001b[0;34m=\u001b[0m\u001b[0;34m[\u001b[0m\u001b[0;34m]\u001b[0m\u001b[0;34m,\u001b[0m \u001b[0mv\u001b[0m\u001b[0;34m=\u001b[0m\u001b[0;34m[\u001b[0m\u001b[0;34m]\u001b[0m\u001b[0;34m)\u001b[0m\u001b[0;34m\u001b[0m\u001b[0;34m\u001b[0m\u001b[0m\n\u001b[0;32m----> 2\u001b[0;31m \u001b[0magent00\u001b[0m\u001b[0;34m.\u001b[0m\u001b[0mrun\u001b[0m\u001b[0;34m(\u001b[0m\u001b[0mepochs\u001b[0m\u001b[0;34m=\u001b[0m\u001b[0;36m5000\u001b[0m\u001b[0;34m,\u001b[0m \u001b[0mdirs\u001b[0m\u001b[0;34m=\u001b[0m\u001b[0;34m\"test00\"\u001b[0m\u001b[0;34m)\u001b[0m\u001b[0;34m\u001b[0m\u001b[0;34m\u001b[0m\u001b[0m\n\u001b[0m",
      "\u001b[0;32m/tmp/ipykernel_401365/518261118.py\u001b[0m in \u001b[0;36mrun\u001b[0;34m(self, epochs, max_steps, train, visualize, dirs)\u001b[0m\n\u001b[1;32m    138\u001b[0m                 \u001b[0mrewards\u001b[0m \u001b[0;34m+=\u001b[0m \u001b[0mreward\u001b[0m\u001b[0;34m\u001b[0m\u001b[0;34m\u001b[0m\u001b[0m\n\u001b[1;32m    139\u001b[0m                 \u001b[0;32mif\u001b[0m \u001b[0mtrain\u001b[0m\u001b[0;34m:\u001b[0m    \u001b[0;31m# Apply training if required\u001b[0m\u001b[0;34m\u001b[0m\u001b[0;34m\u001b[0m\u001b[0m\n\u001b[0;32m--> 140\u001b[0;31m                     \u001b[0mself\u001b[0m\u001b[0;34m.\u001b[0m\u001b[0mlearn\u001b[0m\u001b[0;34m(\u001b[0m\u001b[0mobservation\u001b[0m\u001b[0;34m,\u001b[0m \u001b[0mobservation_\u001b[0m\u001b[0;34m,\u001b[0m \u001b[0mreward\u001b[0m\u001b[0;34m,\u001b[0m \u001b[0mdone\u001b[0m\u001b[0;34m)\u001b[0m\u001b[0;34m\u001b[0m\u001b[0;34m\u001b[0m\u001b[0m\n\u001b[0m\u001b[1;32m    141\u001b[0m                 \u001b[0mobservation\u001b[0m \u001b[0;34m=\u001b[0m \u001b[0mobservation_\u001b[0m\u001b[0;34m\u001b[0m\u001b[0;34m\u001b[0m\u001b[0m\n\u001b[1;32m    142\u001b[0m             \u001b[0;31m# Keep track of best reward agent\u001b[0m\u001b[0;34m\u001b[0m\u001b[0;34m\u001b[0m\u001b[0;34m\u001b[0m\u001b[0m\n",
      "\u001b[0;32m/tmp/ipykernel_401365/518261118.py\u001b[0m in \u001b[0;36mlearn\u001b[0;34m(self, state, state_, reward, done)\u001b[0m\n\u001b[1;32m    112\u001b[0m         \u001b[0;31m# Apply gradients\u001b[0m\u001b[0;34m\u001b[0m\u001b[0;34m\u001b[0m\u001b[0;34m\u001b[0m\u001b[0m\n\u001b[1;32m    113\u001b[0m         \u001b[0mself\u001b[0m\u001b[0;34m.\u001b[0m\u001b[0moptimizer\u001b[0m\u001b[0;34m.\u001b[0m\u001b[0mzero_grad\u001b[0m\u001b[0;34m(\u001b[0m\u001b[0;34m)\u001b[0m\u001b[0;34m\u001b[0m\u001b[0;34m\u001b[0m\u001b[0m\n\u001b[0;32m--> 114\u001b[0;31m         \u001b[0mtotal_loss\u001b[0m\u001b[0;34m.\u001b[0m\u001b[0mbackward\u001b[0m\u001b[0;34m(\u001b[0m\u001b[0;34m)\u001b[0m\u001b[0;34m\u001b[0m\u001b[0;34m\u001b[0m\u001b[0m\n\u001b[0m\u001b[1;32m    115\u001b[0m         \u001b[0;31m# Restrain gradients\u001b[0m\u001b[0;34m\u001b[0m\u001b[0;34m\u001b[0m\u001b[0;34m\u001b[0m\u001b[0m\n\u001b[1;32m    116\u001b[0m         \u001b[0mnn\u001b[0m\u001b[0;34m.\u001b[0m\u001b[0mutils\u001b[0m\u001b[0;34m.\u001b[0m\u001b[0mclip_grad_norm_\u001b[0m\u001b[0;34m(\u001b[0m\u001b[0;34m[\u001b[0m\u001b[0mp\u001b[0m \u001b[0;32mfor\u001b[0m \u001b[0mg\u001b[0m \u001b[0;32min\u001b[0m \u001b[0mself\u001b[0m\u001b[0;34m.\u001b[0m\u001b[0moptimizer\u001b[0m\u001b[0;34m.\u001b[0m\u001b[0mparam_groups\u001b[0m \u001b[0;32mfor\u001b[0m \u001b[0mp\u001b[0m \u001b[0;32min\u001b[0m \u001b[0mg\u001b[0m\u001b[0;34m[\u001b[0m\u001b[0;34m\"params\"\u001b[0m\u001b[0;34m]\u001b[0m\u001b[0;34m]\u001b[0m\u001b[0;34m,\u001b[0m \u001b[0;36m0.5\u001b[0m\u001b[0;34m)\u001b[0m\u001b[0;34m\u001b[0m\u001b[0;34m\u001b[0m\u001b[0m\n",
      "\u001b[0;32m~/anaconda3/lib/python3.8/site-packages/torch/_tensor.py\u001b[0m in \u001b[0;36mbackward\u001b[0;34m(self, gradient, retain_graph, create_graph, inputs)\u001b[0m\n\u001b[1;32m    361\u001b[0m                 \u001b[0mcreate_graph\u001b[0m\u001b[0;34m=\u001b[0m\u001b[0mcreate_graph\u001b[0m\u001b[0;34m,\u001b[0m\u001b[0;34m\u001b[0m\u001b[0;34m\u001b[0m\u001b[0m\n\u001b[1;32m    362\u001b[0m                 inputs=inputs)\n\u001b[0;32m--> 363\u001b[0;31m         \u001b[0mtorch\u001b[0m\u001b[0;34m.\u001b[0m\u001b[0mautograd\u001b[0m\u001b[0;34m.\u001b[0m\u001b[0mbackward\u001b[0m\u001b[0;34m(\u001b[0m\u001b[0mself\u001b[0m\u001b[0;34m,\u001b[0m \u001b[0mgradient\u001b[0m\u001b[0;34m,\u001b[0m \u001b[0mretain_graph\u001b[0m\u001b[0;34m,\u001b[0m \u001b[0mcreate_graph\u001b[0m\u001b[0;34m,\u001b[0m \u001b[0minputs\u001b[0m\u001b[0;34m=\u001b[0m\u001b[0minputs\u001b[0m\u001b[0;34m)\u001b[0m\u001b[0;34m\u001b[0m\u001b[0;34m\u001b[0m\u001b[0m\n\u001b[0m\u001b[1;32m    364\u001b[0m \u001b[0;34m\u001b[0m\u001b[0m\n\u001b[1;32m    365\u001b[0m     \u001b[0;32mdef\u001b[0m \u001b[0mregister_hook\u001b[0m\u001b[0;34m(\u001b[0m\u001b[0mself\u001b[0m\u001b[0;34m,\u001b[0m \u001b[0mhook\u001b[0m\u001b[0;34m)\u001b[0m\u001b[0;34m:\u001b[0m\u001b[0;34m\u001b[0m\u001b[0;34m\u001b[0m\u001b[0m\n",
      "\u001b[0;32m~/anaconda3/lib/python3.8/site-packages/torch/autograd/__init__.py\u001b[0m in \u001b[0;36mbackward\u001b[0;34m(tensors, grad_tensors, retain_graph, create_graph, grad_variables, inputs)\u001b[0m\n\u001b[1;32m    171\u001b[0m     \u001b[0;31m# some Python versions print out the first line of a multi-line function\u001b[0m\u001b[0;34m\u001b[0m\u001b[0;34m\u001b[0m\u001b[0;34m\u001b[0m\u001b[0m\n\u001b[1;32m    172\u001b[0m     \u001b[0;31m# calls in the traceback and some print out the last line\u001b[0m\u001b[0;34m\u001b[0m\u001b[0;34m\u001b[0m\u001b[0;34m\u001b[0m\u001b[0m\n\u001b[0;32m--> 173\u001b[0;31m     Variable._execution_engine.run_backward(  # Calls into the C++ engine to run the backward pass\n\u001b[0m\u001b[1;32m    174\u001b[0m         \u001b[0mtensors\u001b[0m\u001b[0;34m,\u001b[0m \u001b[0mgrad_tensors_\u001b[0m\u001b[0;34m,\u001b[0m \u001b[0mretain_graph\u001b[0m\u001b[0;34m,\u001b[0m \u001b[0mcreate_graph\u001b[0m\u001b[0;34m,\u001b[0m \u001b[0minputs\u001b[0m\u001b[0;34m,\u001b[0m\u001b[0;34m\u001b[0m\u001b[0;34m\u001b[0m\u001b[0m\n\u001b[1;32m    175\u001b[0m         allow_unreachable=True, accumulate_grad=True)  # Calls into the C++ engine to run the backward pass\n",
      "\u001b[0;31mKeyboardInterrupt\u001b[0m: "
     ]
    }
   ],
   "source": [
    "agent00 = Agent(environment=\"CartPole-v1\", discrete=True, gamma=0.997, beta=0.1, h=[512, 256], p=[], v=[])\n",
    "agent00.run(epochs=5000, dirs=\"test00\")"
   ]
  },
  {
   "cell_type": "code",
   "execution_count": 52,
   "id": "79baff3c",
   "metadata": {},
   "outputs": [
    {
     "name": "stderr",
     "output_type": "stream",
     "text": [
      "  1%|▍                                        | 50/5000 [00:25<42:11,  1.96it/s]"
     ]
    },
    {
     "name": "stdout",
     "output_type": "stream",
     "text": [
      "Run 50. - reward: -1301\n"
     ]
    },
    {
     "name": "stderr",
     "output_type": "stream",
     "text": [
      "  2%|▊                                       | 100/5000 [00:52<45:56,  1.78it/s]"
     ]
    },
    {
     "name": "stdout",
     "output_type": "stream",
     "text": [
      "Run 100. - reward: -1308\n"
     ]
    },
    {
     "name": "stderr",
     "output_type": "stream",
     "text": [
      "  3%|█▏                                    | 150/5000 [01:37<1:21:23,  1.01s/it]"
     ]
    },
    {
     "name": "stdout",
     "output_type": "stream",
     "text": [
      "Run 150. - reward: -1342\n"
     ]
    },
    {
     "name": "stderr",
     "output_type": "stream",
     "text": [
      "  4%|█▌                                      | 200/5000 [02:17<45:35,  1.75it/s]"
     ]
    },
    {
     "name": "stdout",
     "output_type": "stream",
     "text": [
      "Run 200. - reward: -1370\n"
     ]
    },
    {
     "name": "stderr",
     "output_type": "stream",
     "text": [
      "  5%|█▉                                    | 250/5000 [03:00<1:17:11,  1.03it/s]"
     ]
    },
    {
     "name": "stdout",
     "output_type": "stream",
     "text": [
      "Run 250. - reward: -1298\n"
     ]
    },
    {
     "name": "stderr",
     "output_type": "stream",
     "text": [
      "  6%|██▍                                     | 300/5000 [03:42<42:35,  1.84it/s]"
     ]
    },
    {
     "name": "stdout",
     "output_type": "stream",
     "text": [
      "Run 300. - reward: -1302\n"
     ]
    },
    {
     "name": "stderr",
     "output_type": "stream",
     "text": [
      "  7%|██▋                                   | 350/5000 [04:25<1:24:23,  1.09s/it]"
     ]
    },
    {
     "name": "stdout",
     "output_type": "stream",
     "text": [
      "Run 350. - reward: -1319\n"
     ]
    },
    {
     "name": "stderr",
     "output_type": "stream",
     "text": [
      "  8%|███                                   | 400/5000 [05:16<1:13:46,  1.04it/s]"
     ]
    },
    {
     "name": "stdout",
     "output_type": "stream",
     "text": [
      "Run 400. - reward: -1307\n"
     ]
    },
    {
     "name": "stderr",
     "output_type": "stream",
     "text": [
      "  9%|███▌                                    | 450/5000 [05:53<46:17,  1.64it/s]"
     ]
    },
    {
     "name": "stdout",
     "output_type": "stream",
     "text": [
      "Run 450. - reward: -1280\n"
     ]
    },
    {
     "name": "stderr",
     "output_type": "stream",
     "text": [
      " 10%|███▊                                  | 500/5000 [06:47<1:22:25,  1.10s/it]"
     ]
    },
    {
     "name": "stdout",
     "output_type": "stream",
     "text": [
      "Run 500. - reward: -1362\n"
     ]
    },
    {
     "name": "stderr",
     "output_type": "stream",
     "text": [
      " 11%|████▍                                   | 550/5000 [07:32<46:31,  1.59it/s]"
     ]
    },
    {
     "name": "stdout",
     "output_type": "stream",
     "text": [
      "Run 550. - reward: -1392\n"
     ]
    },
    {
     "name": "stderr",
     "output_type": "stream",
     "text": [
      " 12%|████▌                                 | 600/5000 [08:14<1:11:15,  1.03it/s]"
     ]
    },
    {
     "name": "stdout",
     "output_type": "stream",
     "text": [
      "Run 600. - reward: -1342\n"
     ]
    },
    {
     "name": "stderr",
     "output_type": "stream",
     "text": [
      " 13%|█████▏                                  | 650/5000 [08:57<56:35,  1.28it/s]"
     ]
    },
    {
     "name": "stdout",
     "output_type": "stream",
     "text": [
      "Run 650. - reward: -1406\n"
     ]
    },
    {
     "name": "stderr",
     "output_type": "stream",
     "text": [
      " 14%|█████▎                                | 700/5000 [09:46<1:06:34,  1.08it/s]"
     ]
    },
    {
     "name": "stdout",
     "output_type": "stream",
     "text": [
      "Run 700. - reward: -1358\n"
     ]
    },
    {
     "name": "stderr",
     "output_type": "stream",
     "text": [
      " 15%|██████                                  | 750/5000 [10:23<45:17,  1.56it/s]"
     ]
    },
    {
     "name": "stdout",
     "output_type": "stream",
     "text": [
      "Run 750. - reward: -1406\n"
     ]
    },
    {
     "name": "stderr",
     "output_type": "stream",
     "text": [
      " 16%|██████                                | 800/5000 [11:11<1:02:24,  1.12it/s]"
     ]
    },
    {
     "name": "stdout",
     "output_type": "stream",
     "text": [
      "Run 800. - reward: -1350\n"
     ]
    },
    {
     "name": "stderr",
     "output_type": "stream",
     "text": [
      " 17%|██████▊                                 | 850/5000 [11:44<54:12,  1.28it/s]"
     ]
    },
    {
     "name": "stdout",
     "output_type": "stream",
     "text": [
      "Run 850. - reward: -1326\n"
     ]
    },
    {
     "name": "stderr",
     "output_type": "stream",
     "text": [
      " 18%|██████▊                               | 900/5000 [12:31<1:02:25,  1.09it/s]"
     ]
    },
    {
     "name": "stdout",
     "output_type": "stream",
     "text": [
      "Run 900. - reward: -1336\n"
     ]
    },
    {
     "name": "stderr",
     "output_type": "stream",
     "text": [
      " 19%|███████▏                              | 950/5000 [13:05<1:04:49,  1.04it/s]"
     ]
    },
    {
     "name": "stdout",
     "output_type": "stream",
     "text": [
      "Run 950. - reward: -1324\n"
     ]
    },
    {
     "name": "stderr",
     "output_type": "stream",
     "text": [
      " 20%|███████▍                             | 1000/5000 [13:52<1:04:08,  1.04it/s]"
     ]
    },
    {
     "name": "stdout",
     "output_type": "stream",
     "text": [
      "Run 1000. - reward: -1358\n"
     ]
    },
    {
     "name": "stderr",
     "output_type": "stream",
     "text": [
      " 21%|████████▏                              | 1050/5000 [14:28<59:54,  1.10it/s]"
     ]
    },
    {
     "name": "stdout",
     "output_type": "stream",
     "text": [
      "Run 1050. - reward: -1294\n"
     ]
    },
    {
     "name": "stderr",
     "output_type": "stream",
     "text": [
      " 22%|████████▌                              | 1100/5000 [15:07<36:28,  1.78it/s]"
     ]
    },
    {
     "name": "stdout",
     "output_type": "stream",
     "text": [
      "Run 1100. - reward: -1345\n"
     ]
    },
    {
     "name": "stderr",
     "output_type": "stream",
     "text": [
      " 23%|████████▌                            | 1150/5000 [15:48<1:00:19,  1.06it/s]"
     ]
    },
    {
     "name": "stdout",
     "output_type": "stream",
     "text": [
      "Run 1150. - reward: -1334\n"
     ]
    },
    {
     "name": "stderr",
     "output_type": "stream",
     "text": [
      " 24%|█████████▎                             | 1200/5000 [16:29<36:06,  1.75it/s]"
     ]
    },
    {
     "name": "stdout",
     "output_type": "stream",
     "text": [
      "Run 1200. - reward: -1358\n"
     ]
    },
    {
     "name": "stderr",
     "output_type": "stream",
     "text": [
      " 25%|█████████▊                             | 1250/5000 [17:07<54:59,  1.14it/s]"
     ]
    },
    {
     "name": "stdout",
     "output_type": "stream",
     "text": [
      "Run 1250. - reward: -1371\n"
     ]
    },
    {
     "name": "stderr",
     "output_type": "stream",
     "text": [
      " 26%|██████████▏                            | 1300/5000 [17:42<35:55,  1.72it/s]"
     ]
    },
    {
     "name": "stdout",
     "output_type": "stream",
     "text": [
      "Run 1300. - reward: -1326\n"
     ]
    },
    {
     "name": "stderr",
     "output_type": "stream",
     "text": [
      " 27%|██████████▌                            | 1350/5000 [18:25<57:22,  1.06it/s]"
     ]
    },
    {
     "name": "stdout",
     "output_type": "stream",
     "text": [
      "Run 1350. - reward: -1366\n"
     ]
    },
    {
     "name": "stderr",
     "output_type": "stream",
     "text": [
      " 28%|██████████▉                            | 1400/5000 [19:01<34:03,  1.76it/s]"
     ]
    },
    {
     "name": "stdout",
     "output_type": "stream",
     "text": [
      "Run 1400. - reward: -1306\n"
     ]
    },
    {
     "name": "stderr",
     "output_type": "stream",
     "text": [
      " 29%|███████████▎                           | 1450/5000 [19:45<53:49,  1.10it/s]"
     ]
    },
    {
     "name": "stdout",
     "output_type": "stream",
     "text": [
      "Run 1450. - reward: -1343\n"
     ]
    },
    {
     "name": "stderr",
     "output_type": "stream",
     "text": [
      " 30%|███████████▋                           | 1500/5000 [20:25<42:10,  1.38it/s]"
     ]
    },
    {
     "name": "stdout",
     "output_type": "stream",
     "text": [
      "Run 1500. - reward: -1308\n"
     ]
    },
    {
     "name": "stderr",
     "output_type": "stream",
     "text": [
      " 31%|████████████                           | 1550/5000 [21:16<37:51,  1.52it/s]"
     ]
    },
    {
     "name": "stdout",
     "output_type": "stream",
     "text": [
      "Run 1550. - reward: -1302\n"
     ]
    },
    {
     "name": "stderr",
     "output_type": "stream",
     "text": [
      " 32%|████████████▍                          | 1600/5000 [21:46<49:52,  1.14it/s]"
     ]
    },
    {
     "name": "stdout",
     "output_type": "stream",
     "text": [
      "Run 1600. - reward: -1307\n"
     ]
    },
    {
     "name": "stderr",
     "output_type": "stream",
     "text": [
      " 33%|████████████▊                          | 1650/5000 [22:34<33:32,  1.66it/s]"
     ]
    },
    {
     "name": "stdout",
     "output_type": "stream",
     "text": [
      "Run 1650. - reward: -1343\n"
     ]
    },
    {
     "name": "stderr",
     "output_type": "stream",
     "text": [
      " 34%|█████████████▎                         | 1700/5000 [23:12<52:26,  1.05it/s]"
     ]
    },
    {
     "name": "stdout",
     "output_type": "stream",
     "text": [
      "Run 1700. - reward: -1271\n"
     ]
    },
    {
     "name": "stderr",
     "output_type": "stream",
     "text": [
      " 35%|█████████████▋                         | 1750/5000 [23:56<31:58,  1.69it/s]"
     ]
    },
    {
     "name": "stdout",
     "output_type": "stream",
     "text": [
      "Run 1750. - reward: -1356\n"
     ]
    },
    {
     "name": "stderr",
     "output_type": "stream",
     "text": [
      " 36%|█████████████▎                       | 1800/5000 [24:39<1:07:34,  1.27s/it]"
     ]
    },
    {
     "name": "stdout",
     "output_type": "stream",
     "text": [
      "Run 1800. - reward: -1348\n"
     ]
    },
    {
     "name": "stderr",
     "output_type": "stream",
     "text": [
      " 37%|██████████████▍                        | 1850/5000 [25:28<56:16,  1.07s/it]"
     ]
    },
    {
     "name": "stdout",
     "output_type": "stream",
     "text": [
      "Run 1850. - reward: -1317\n"
     ]
    },
    {
     "name": "stderr",
     "output_type": "stream",
     "text": [
      " 38%|██████████████▊                        | 1900/5000 [26:17<51:22,  1.01it/s]"
     ]
    },
    {
     "name": "stdout",
     "output_type": "stream",
     "text": [
      "Run 1900. - reward: -1389\n"
     ]
    },
    {
     "name": "stderr",
     "output_type": "stream",
     "text": [
      " 39%|███████████████▏                       | 1950/5000 [26:53<48:50,  1.04it/s]"
     ]
    },
    {
     "name": "stdout",
     "output_type": "stream",
     "text": [
      "Run 1950. - reward: -1379\n"
     ]
    },
    {
     "name": "stderr",
     "output_type": "stream",
     "text": [
      " 40%|███████████████▌                       | 2000/5000 [27:39<43:39,  1.15it/s]"
     ]
    },
    {
     "name": "stdout",
     "output_type": "stream",
     "text": [
      "Run 2000. - reward: -1375\n"
     ]
    },
    {
     "name": "stderr",
     "output_type": "stream",
     "text": [
      " 41%|███████████████▉                       | 2050/5000 [28:21<47:37,  1.03it/s]"
     ]
    },
    {
     "name": "stdout",
     "output_type": "stream",
     "text": [
      "Run 2050. - reward: -1298\n"
     ]
    },
    {
     "name": "stderr",
     "output_type": "stream",
     "text": [
      " 42%|████████████████▍                      | 2100/5000 [29:00<28:08,  1.72it/s]"
     ]
    },
    {
     "name": "stdout",
     "output_type": "stream",
     "text": [
      "Run 2100. - reward: -1390\n"
     ]
    },
    {
     "name": "stderr",
     "output_type": "stream",
     "text": [
      " 43%|████████████████▊                      | 2150/5000 [29:40<43:45,  1.09it/s]"
     ]
    },
    {
     "name": "stdout",
     "output_type": "stream",
     "text": [
      "Run 2150. - reward: -1343\n"
     ]
    },
    {
     "name": "stderr",
     "output_type": "stream",
     "text": [
      " 44%|█████████████████▏                     | 2200/5000 [30:18<28:01,  1.67it/s]"
     ]
    },
    {
     "name": "stdout",
     "output_type": "stream",
     "text": [
      "Run 2200. - reward: -1366\n"
     ]
    },
    {
     "name": "stderr",
     "output_type": "stream",
     "text": [
      " 45%|█████████████████▌                     | 2250/5000 [31:00<41:45,  1.10it/s]"
     ]
    },
    {
     "name": "stdout",
     "output_type": "stream",
     "text": [
      "Run 2250. - reward: -1403\n"
     ]
    },
    {
     "name": "stderr",
     "output_type": "stream",
     "text": [
      " 46%|█████████████████▉                     | 2300/5000 [31:34<27:46,  1.62it/s]"
     ]
    },
    {
     "name": "stdout",
     "output_type": "stream",
     "text": [
      "Run 2300. - reward: -1410\n"
     ]
    },
    {
     "name": "stderr",
     "output_type": "stream",
     "text": [
      " 47%|██████████████████▎                    | 2350/5000 [32:18<44:44,  1.01s/it]"
     ]
    },
    {
     "name": "stdout",
     "output_type": "stream",
     "text": [
      "Run 2350. - reward: -1302\n"
     ]
    },
    {
     "name": "stderr",
     "output_type": "stream",
     "text": [
      " 48%|██████████████████▋                    | 2400/5000 [32:55<26:28,  1.64it/s]"
     ]
    },
    {
     "name": "stdout",
     "output_type": "stream",
     "text": [
      "Run 2400. - reward: -1322\n"
     ]
    },
    {
     "name": "stderr",
     "output_type": "stream",
     "text": [
      " 49%|███████████████████                    | 2450/5000 [33:40<41:22,  1.03it/s]"
     ]
    },
    {
     "name": "stdout",
     "output_type": "stream",
     "text": [
      "Run 2450. - reward: -1311\n"
     ]
    },
    {
     "name": "stderr",
     "output_type": "stream",
     "text": [
      " 50%|███████████████████▌                   | 2500/5000 [34:13<25:32,  1.63it/s]"
     ]
    },
    {
     "name": "stdout",
     "output_type": "stream",
     "text": [
      "Run 2500. - reward: -1310\n"
     ]
    },
    {
     "name": "stderr",
     "output_type": "stream",
     "text": [
      " 51%|███████████████████▉                   | 2550/5000 [34:58<37:22,  1.09it/s]"
     ]
    },
    {
     "name": "stdout",
     "output_type": "stream",
     "text": [
      "Run 2550. - reward: -1397\n"
     ]
    },
    {
     "name": "stderr",
     "output_type": "stream",
     "text": [
      " 52%|████████████████████▎                  | 2600/5000 [35:36<46:15,  1.16s/it]"
     ]
    },
    {
     "name": "stdout",
     "output_type": "stream",
     "text": [
      "Run 2600. - reward: -1330\n"
     ]
    },
    {
     "name": "stderr",
     "output_type": "stream",
     "text": [
      " 53%|████████████████████▋                  | 2650/5000 [36:20<24:45,  1.58it/s]"
     ]
    },
    {
     "name": "stdout",
     "output_type": "stream",
     "text": [
      "Run 2650. - reward: -1345\n"
     ]
    },
    {
     "name": "stderr",
     "output_type": "stream",
     "text": [
      " 54%|█████████████████████                  | 2700/5000 [36:57<34:59,  1.10it/s]"
     ]
    },
    {
     "name": "stdout",
     "output_type": "stream",
     "text": [
      "Run 2700. - reward: -1335\n"
     ]
    },
    {
     "name": "stderr",
     "output_type": "stream",
     "text": [
      " 55%|█████████████████████▍                 | 2750/5000 [37:36<21:35,  1.74it/s]"
     ]
    },
    {
     "name": "stdout",
     "output_type": "stream",
     "text": [
      "Run 2750. - reward: -1340\n"
     ]
    },
    {
     "name": "stderr",
     "output_type": "stream",
     "text": [
      " 56%|█████████████████████▊                 | 2800/5000 [38:15<33:40,  1.09it/s]"
     ]
    },
    {
     "name": "stdout",
     "output_type": "stream",
     "text": [
      "Run 2800. - reward: -1319\n"
     ]
    },
    {
     "name": "stderr",
     "output_type": "stream",
     "text": [
      " 57%|██████████████████████▏                | 2850/5000 [38:52<20:44,  1.73it/s]"
     ]
    },
    {
     "name": "stdout",
     "output_type": "stream",
     "text": [
      "Run 2850. - reward: -1375\n"
     ]
    },
    {
     "name": "stderr",
     "output_type": "stream",
     "text": [
      " 58%|██████████████████████▌                | 2900/5000 [39:32<33:34,  1.04it/s]"
     ]
    },
    {
     "name": "stdout",
     "output_type": "stream",
     "text": [
      "Run 2900. - reward: -1348\n"
     ]
    },
    {
     "name": "stderr",
     "output_type": "stream",
     "text": [
      " 59%|███████████████████████                | 2950/5000 [40:08<19:47,  1.73it/s]"
     ]
    },
    {
     "name": "stdout",
     "output_type": "stream",
     "text": [
      "Run 2950. - reward: -1307\n"
     ]
    },
    {
     "name": "stderr",
     "output_type": "stream",
     "text": [
      " 60%|███████████████████████▍               | 3000/5000 [40:52<31:45,  1.05it/s]"
     ]
    },
    {
     "name": "stdout",
     "output_type": "stream",
     "text": [
      "Run 3000. - reward: -1344\n"
     ]
    },
    {
     "name": "stderr",
     "output_type": "stream",
     "text": [
      " 61%|███████████████████████▊               | 3050/5000 [41:25<19:00,  1.71it/s]"
     ]
    },
    {
     "name": "stdout",
     "output_type": "stream",
     "text": [
      "Run 3050. - reward: -1303\n"
     ]
    },
    {
     "name": "stderr",
     "output_type": "stream",
     "text": [
      " 62%|████████████████████████▏              | 3100/5000 [42:09<29:09,  1.09it/s]"
     ]
    },
    {
     "name": "stdout",
     "output_type": "stream",
     "text": [
      "Run 3100. - reward: -1332\n"
     ]
    },
    {
     "name": "stderr",
     "output_type": "stream",
     "text": [
      " 63%|████████████████████████▌              | 3150/5000 [42:40<18:09,  1.70it/s]"
     ]
    },
    {
     "name": "stdout",
     "output_type": "stream",
     "text": [
      "Run 3150. - reward: -1336\n"
     ]
    },
    {
     "name": "stderr",
     "output_type": "stream",
     "text": [
      " 64%|████████████████████████▉              | 3200/5000 [43:26<26:23,  1.14it/s]"
     ]
    },
    {
     "name": "stdout",
     "output_type": "stream",
     "text": [
      "Run 3200. - reward: -1309\n"
     ]
    },
    {
     "name": "stderr",
     "output_type": "stream",
     "text": [
      " 65%|█████████████████████████▎             | 3250/5000 [43:58<25:20,  1.15it/s]"
     ]
    },
    {
     "name": "stdout",
     "output_type": "stream",
     "text": [
      "Run 3250. - reward: -1361\n"
     ]
    },
    {
     "name": "stderr",
     "output_type": "stream",
     "text": [
      " 66%|█████████████████████████▋             | 3300/5000 [44:41<16:53,  1.68it/s]"
     ]
    },
    {
     "name": "stdout",
     "output_type": "stream",
     "text": [
      "Run 3300. - reward: -1332\n"
     ]
    },
    {
     "name": "stderr",
     "output_type": "stream",
     "text": [
      " 67%|██████████████████████████▏            | 3350/5000 [45:16<25:42,  1.07it/s]"
     ]
    },
    {
     "name": "stdout",
     "output_type": "stream",
     "text": [
      "Run 3350. - reward: -1336\n"
     ]
    },
    {
     "name": "stderr",
     "output_type": "stream",
     "text": [
      " 68%|██████████████████████████▌            | 3400/5000 [45:56<15:46,  1.69it/s]"
     ]
    },
    {
     "name": "stdout",
     "output_type": "stream",
     "text": [
      "Run 3400. - reward: -1350\n"
     ]
    },
    {
     "name": "stderr",
     "output_type": "stream",
     "text": [
      " 69%|██████████████████████████▉            | 3450/5000 [46:34<24:00,  1.08it/s]"
     ]
    },
    {
     "name": "stdout",
     "output_type": "stream",
     "text": [
      "Run 3450. - reward: -1403\n"
     ]
    },
    {
     "name": "stderr",
     "output_type": "stream",
     "text": [
      " 70%|███████████████████████████▎           | 3500/5000 [47:12<14:48,  1.69it/s]"
     ]
    },
    {
     "name": "stdout",
     "output_type": "stream",
     "text": [
      "Run 3500. - reward: -1394\n"
     ]
    },
    {
     "name": "stderr",
     "output_type": "stream",
     "text": [
      " 71%|███████████████████████████▋           | 3550/5000 [47:51<22:41,  1.06it/s]"
     ]
    },
    {
     "name": "stdout",
     "output_type": "stream",
     "text": [
      "Run 3550. - reward: -1297\n"
     ]
    },
    {
     "name": "stderr",
     "output_type": "stream",
     "text": [
      " 72%|████████████████████████████           | 3600/5000 [48:27<13:46,  1.69it/s]"
     ]
    },
    {
     "name": "stdout",
     "output_type": "stream",
     "text": [
      "Run 3600. - reward: -1354\n"
     ]
    },
    {
     "name": "stderr",
     "output_type": "stream",
     "text": [
      " 73%|████████████████████████████▍          | 3650/5000 [49:09<21:14,  1.06it/s]"
     ]
    },
    {
     "name": "stdout",
     "output_type": "stream",
     "text": [
      "Run 3650. - reward: -1378\n"
     ]
    },
    {
     "name": "stderr",
     "output_type": "stream",
     "text": [
      " 74%|████████████████████████████▊          | 3700/5000 [49:43<12:48,  1.69it/s]"
     ]
    },
    {
     "name": "stdout",
     "output_type": "stream",
     "text": [
      "Run 3700. - reward: -1283\n"
     ]
    },
    {
     "name": "stderr",
     "output_type": "stream",
     "text": [
      " 75%|█████████████████████████████▎         | 3750/5000 [50:27<19:33,  1.07it/s]"
     ]
    },
    {
     "name": "stdout",
     "output_type": "stream",
     "text": [
      "Run 3750. - reward: -1297\n"
     ]
    },
    {
     "name": "stderr",
     "output_type": "stream",
     "text": [
      " 76%|█████████████████████████████▋         | 3800/5000 [50:59<11:45,  1.70it/s]"
     ]
    },
    {
     "name": "stdout",
     "output_type": "stream",
     "text": [
      "Run 3800. - reward: -1380\n"
     ]
    },
    {
     "name": "stderr",
     "output_type": "stream",
     "text": [
      " 77%|██████████████████████████████         | 3850/5000 [51:45<17:54,  1.07it/s]"
     ]
    },
    {
     "name": "stdout",
     "output_type": "stream",
     "text": [
      "Run 3850. - reward: -1375\n"
     ]
    },
    {
     "name": "stderr",
     "output_type": "stream",
     "text": [
      " 78%|██████████████████████████████▍        | 3900/5000 [52:17<15:47,  1.16it/s]"
     ]
    },
    {
     "name": "stdout",
     "output_type": "stream",
     "text": [
      "Run 3900. - reward: -1336\n"
     ]
    },
    {
     "name": "stderr",
     "output_type": "stream",
     "text": [
      " 79%|██████████████████████████████▊        | 3950/5000 [53:08<14:44,  1.19it/s]"
     ]
    },
    {
     "name": "stdout",
     "output_type": "stream",
     "text": [
      "Run 3950. - reward: -1361\n"
     ]
    },
    {
     "name": "stderr",
     "output_type": "stream",
     "text": [
      " 80%|███████████████████████████████▏       | 4000/5000 [53:57<16:10,  1.03it/s]"
     ]
    },
    {
     "name": "stdout",
     "output_type": "stream",
     "text": [
      "Run 4000. - reward: -1394\n"
     ]
    },
    {
     "name": "stderr",
     "output_type": "stream",
     "text": [
      " 81%|███████████████████████████████▌       | 4050/5000 [54:34<15:07,  1.05it/s]"
     ]
    },
    {
     "name": "stdout",
     "output_type": "stream",
     "text": [
      "Run 4050. - reward: -1371\n"
     ]
    },
    {
     "name": "stderr",
     "output_type": "stream",
     "text": [
      " 82%|███████████████████████████████▉       | 4100/5000 [55:21<10:13,  1.47it/s]"
     ]
    },
    {
     "name": "stdout",
     "output_type": "stream",
     "text": [
      "Run 4100. - reward: -1306\n"
     ]
    },
    {
     "name": "stderr",
     "output_type": "stream",
     "text": [
      " 83%|████████████████████████████████▎      | 4150/5000 [55:58<13:19,  1.06it/s]"
     ]
    },
    {
     "name": "stdout",
     "output_type": "stream",
     "text": [
      "Run 4150. - reward: -1309\n"
     ]
    },
    {
     "name": "stderr",
     "output_type": "stream",
     "text": [
      " 84%|████████████████████████████████▊      | 4200/5000 [56:40<08:13,  1.62it/s]"
     ]
    },
    {
     "name": "stdout",
     "output_type": "stream",
     "text": [
      "Run 4200. - reward: -1374\n"
     ]
    },
    {
     "name": "stderr",
     "output_type": "stream",
     "text": [
      " 85%|█████████████████████████████████▏     | 4250/5000 [57:19<11:51,  1.05it/s]"
     ]
    },
    {
     "name": "stdout",
     "output_type": "stream",
     "text": [
      "Run 4250. - reward: -1339\n"
     ]
    },
    {
     "name": "stderr",
     "output_type": "stream",
     "text": [
      " 86%|█████████████████████████████████▌     | 4300/5000 [57:58<06:56,  1.68it/s]"
     ]
    },
    {
     "name": "stdout",
     "output_type": "stream",
     "text": [
      "Run 4300. - reward: -1369\n"
     ]
    },
    {
     "name": "stderr",
     "output_type": "stream",
     "text": [
      " 87%|█████████████████████████████████▉     | 4350/5000 [58:42<10:05,  1.07it/s]"
     ]
    },
    {
     "name": "stdout",
     "output_type": "stream",
     "text": [
      "Run 4350. - reward: -1341\n"
     ]
    },
    {
     "name": "stderr",
     "output_type": "stream",
     "text": [
      " 88%|██████████████████████████████████▎    | 4400/5000 [59:15<05:53,  1.70it/s]"
     ]
    },
    {
     "name": "stdout",
     "output_type": "stream",
     "text": [
      "Run 4400. - reward: -1343\n"
     ]
    },
    {
     "name": "stderr",
     "output_type": "stream",
     "text": [
      " 89%|████████████████████████████████▉    | 4450/5000 [1:00:02<06:12,  1.48it/s]"
     ]
    },
    {
     "name": "stdout",
     "output_type": "stream",
     "text": [
      "Run 4450. - reward: -1414\n"
     ]
    },
    {
     "name": "stderr",
     "output_type": "stream",
     "text": [
      " 90%|█████████████████████████████████▎   | 4500/5000 [1:00:38<08:22,  1.00s/it]"
     ]
    },
    {
     "name": "stdout",
     "output_type": "stream",
     "text": [
      "Run 4500. - reward: -1338\n"
     ]
    },
    {
     "name": "stderr",
     "output_type": "stream",
     "text": [
      " 91%|█████████████████████████████████▋   | 4550/5000 [1:01:21<04:48,  1.56it/s]"
     ]
    },
    {
     "name": "stdout",
     "output_type": "stream",
     "text": [
      "Run 4550. - reward: -1319\n"
     ]
    },
    {
     "name": "stderr",
     "output_type": "stream",
     "text": [
      " 92%|██████████████████████████████████   | 4600/5000 [1:01:59<06:13,  1.07it/s]"
     ]
    },
    {
     "name": "stdout",
     "output_type": "stream",
     "text": [
      "Run 4600. - reward: -1347\n"
     ]
    },
    {
     "name": "stderr",
     "output_type": "stream",
     "text": [
      " 93%|██████████████████████████████████▍  | 4650/5000 [1:02:38<03:42,  1.57it/s]"
     ]
    },
    {
     "name": "stdout",
     "output_type": "stream",
     "text": [
      "Run 4650. - reward: -1338\n"
     ]
    },
    {
     "name": "stderr",
     "output_type": "stream",
     "text": [
      " 94%|██████████████████████████████████▊  | 4700/5000 [1:03:22<04:52,  1.02it/s]"
     ]
    },
    {
     "name": "stdout",
     "output_type": "stream",
     "text": [
      "Run 4700. - reward: -1355\n"
     ]
    },
    {
     "name": "stderr",
     "output_type": "stream",
     "text": [
      " 95%|███████████████████████████████████▏ | 4750/5000 [1:03:58<03:15,  1.28it/s]"
     ]
    },
    {
     "name": "stdout",
     "output_type": "stream",
     "text": [
      "Run 4750. - reward: -1343\n"
     ]
    },
    {
     "name": "stderr",
     "output_type": "stream",
     "text": [
      " 96%|███████████████████████████████████▌ | 4800/5000 [1:04:46<02:13,  1.50it/s]"
     ]
    },
    {
     "name": "stdout",
     "output_type": "stream",
     "text": [
      "Run 4800. - reward: -1321\n"
     ]
    },
    {
     "name": "stderr",
     "output_type": "stream",
     "text": [
      " 97%|███████████████████████████████████▉ | 4850/5000 [1:05:26<02:38,  1.06s/it]"
     ]
    },
    {
     "name": "stdout",
     "output_type": "stream",
     "text": [
      "Run 4850. - reward: -1304\n"
     ]
    },
    {
     "name": "stderr",
     "output_type": "stream",
     "text": [
      " 98%|████████████████████████████████████▎| 4900/5000 [1:06:14<01:06,  1.50it/s]"
     ]
    },
    {
     "name": "stdout",
     "output_type": "stream",
     "text": [
      "Run 4900. - reward: -1378\n"
     ]
    },
    {
     "name": "stderr",
     "output_type": "stream",
     "text": [
      " 99%|████████████████████████████████████▋| 4950/5000 [1:06:56<00:48,  1.03it/s]"
     ]
    },
    {
     "name": "stdout",
     "output_type": "stream",
     "text": [
      "Run 4950. - reward: -1386\n"
     ]
    },
    {
     "name": "stderr",
     "output_type": "stream",
     "text": [
      "100%|█████████████████████████████████████| 5000/5000 [1:07:34<00:00,  1.23it/s]"
     ]
    },
    {
     "name": "stdout",
     "output_type": "stream",
     "text": [
      "Run 5000. - reward: -1328\n"
     ]
    },
    {
     "name": "stderr",
     "output_type": "stream",
     "text": [
      "\n"
     ]
    },
    {
     "data": {
      "text/plain": [
       "{'score': [-904.1303708639855,\n",
       "  -1379.945506473657,\n",
       "  -1734.2974916658686,\n",
       "  -1009.5230047718372,\n",
       "  -743.8287481799006,\n",
       "  -1377.683653782734,\n",
       "  -884.5178818887318,\n",
       "  -1374.0317671172145,\n",
       "  -1382.3692672893237,\n",
       "  -1374.5546619824424,\n",
       "  -1251.04954064643,\n",
       "  -1740.64573058582,\n",
       "  -1374.5747019085857,\n",
       "  -1499.4335487886322,\n",
       "  -1059.0647884175582,\n",
       "  -1590.9301890603538,\n",
       "  -1072.3572004572977,\n",
       "  -1662.6895898155547,\n",
       "  -1312.2335104363892,\n",
       "  -1229.1549292574675,\n",
       "  -928.3150407813476,\n",
       "  -1385.7648506837093,\n",
       "  -1024.4297011586884,\n",
       "  -1289.1275717114675,\n",
       "  -1506.7619927331457,\n",
       "  -1384.5720229799922,\n",
       "  -1377.8472328021073,\n",
       "  -1308.2726988467643,\n",
       "  -1377.691226723368,\n",
       "  -1586.7745940769823,\n",
       "  -1383.0065777379834,\n",
       "  -949.3819912964175,\n",
       "  -1209.9097978124319,\n",
       "  -1136.0369281701228,\n",
       "  -1656.995313832587,\n",
       "  -966.5596259631886,\n",
       "  -1375.295455355816,\n",
       "  -1204.6607610835867,\n",
       "  -1385.340565611703,\n",
       "  -703.0573241180352,\n",
       "  -1733.1304760263795,\n",
       "  -1367.8154920904417,\n",
       "  -1282.1225942152587,\n",
       "  -1287.718420767326,\n",
       "  -1199.2613533687413,\n",
       "  -1439.9534440735254,\n",
       "  -1344.8202572785194,\n",
       "  -1565.2522218566305,\n",
       "  -1176.3273693768022,\n",
       "  -1559.6625373319573,\n",
       "  -1375.4628658879003,\n",
       "  -1370.3455587788603,\n",
       "  -1299.8677266406212,\n",
       "  -1623.0582368071346,\n",
       "  -972.4911006537423,\n",
       "  -1402.0001897242514,\n",
       "  -1630.71195243237,\n",
       "  -1689.6873586101979,\n",
       "  -948.4232552256083,\n",
       "  -1197.7013432549722,\n",
       "  -1273.1761399879977,\n",
       "  -1386.3392701945604,\n",
       "  -1377.1654281954734,\n",
       "  -1371.6490779133292,\n",
       "  -1159.606000313369,\n",
       "  -1014.845599423444,\n",
       "  -1557.0698908954098,\n",
       "  -1301.5900172806278,\n",
       "  -1230.878043956542,\n",
       "  -1287.9540578894787,\n",
       "  -1281.2656566793394,\n",
       "  -1048.7463329267016,\n",
       "  -720.7765451527966,\n",
       "  -775.2151994204316,\n",
       "  -1413.3728539008434,\n",
       "  -1384.974005088846,\n",
       "  -1320.978725067154,\n",
       "  -1535.6832818668563,\n",
       "  -1570.4774102270314,\n",
       "  -1288.836517971156,\n",
       "  -1392.8059759033686,\n",
       "  -1263.1275539078138,\n",
       "  -1625.1772702495027,\n",
       "  -1721.6510213376182,\n",
       "  -1164.9510449059608,\n",
       "  -1174.9205532544306,\n",
       "  -1174.2650228478537,\n",
       "  -989.6053300292117,\n",
       "  -1169.4416305198151,\n",
       "  -1383.8106199057913,\n",
       "  -1004.1918141367341,\n",
       "  -1469.6085000790285,\n",
       "  -1272.2249457641528,\n",
       "  -1540.151542728528,\n",
       "  -1193.8048212678884,\n",
       "  -1516.3503710760451,\n",
       "  -1508.1516644854473,\n",
       "  -1413.0547004274092,\n",
       "  -1385.3378709894212,\n",
       "  -1249.5390950578762,\n",
       "  -1475.1825685146944,\n",
       "  -1371.6184428922572,\n",
       "  -1726.3545454504444,\n",
       "  -950.1390432319091,\n",
       "  -1692.342014232569,\n",
       "  -1231.6092300390596,\n",
       "  -1723.4610955200185,\n",
       "  -1339.4055172781252,\n",
       "  -1166.6376888987895,\n",
       "  -1638.7046748737894,\n",
       "  -952.5675637025248,\n",
       "  -897.5167102274158,\n",
       "  -1344.1783603098315,\n",
       "  -1495.651182444062,\n",
       "  -960.2167295606923,\n",
       "  -1053.7168467579831,\n",
       "  -1042.9066856918887,\n",
       "  -1561.404636787836,\n",
       "  -1064.5416902015777,\n",
       "  -1380.6986421401152,\n",
       "  -1269.4674019603988,\n",
       "  -1363.8587157530321,\n",
       "  -1363.1400243298622,\n",
       "  -1279.2124812197583,\n",
       "  -1648.1554688661915,\n",
       "  -1202.2422432312044,\n",
       "  -1288.5502040562187,\n",
       "  -1384.977101090074,\n",
       "  -1028.918397654014,\n",
       "  -1391.9890904475249,\n",
       "  -1169.2571043389228,\n",
       "  -989.5500398160609,\n",
       "  -1538.6088963869101,\n",
       "  -1607.5040993151854,\n",
       "  -1683.6872371877816,\n",
       "  -1378.6795902746878,\n",
       "  -1563.6823758519567,\n",
       "  -1159.8474237331056,\n",
       "  -1381.6473646633142,\n",
       "  -1295.8393016851496,\n",
       "  -1406.1923002791439,\n",
       "  -1383.6443018551251,\n",
       "  -750.9207851516643,\n",
       "  -1730.8355874168199,\n",
       "  -1317.179912798262,\n",
       "  -1450.0665054673052,\n",
       "  -1377.986953531507,\n",
       "  -1710.2772328337883,\n",
       "  -1568.9875350810648,\n",
       "  -1395.1134042443296,\n",
       "  -1711.0753957615966,\n",
       "  -1381.491741817785,\n",
       "  -1345.9921895874415,\n",
       "  -1369.6311539120811,\n",
       "  -1148.9760929939239,\n",
       "  -1063.2953881734609,\n",
       "  -1681.5842572378688,\n",
       "  -1389.4751518449011,\n",
       "  -1325.8824996422068,\n",
       "  -938.7115086018,\n",
       "  -1531.2391624739569,\n",
       "  -1395.3260817432217,\n",
       "  -1383.1132752541575,\n",
       "  -1384.956431611826,\n",
       "  -1719.3535347783034,\n",
       "  -1669.1456363115867,\n",
       "  -1678.8081015235568,\n",
       "  -1412.9642058461857,\n",
       "  -1157.1413653444142,\n",
       "  -1382.6120903958936,\n",
       "  -1590.4565747463519,\n",
       "  -1735.8721050408424,\n",
       "  -1203.6341942162537,\n",
       "  -1530.9132930075923,\n",
       "  -1601.5668678935285,\n",
       "  -1281.1847767478537,\n",
       "  -1210.0047177894207,\n",
       "  -1371.4401698973293,\n",
       "  -1382.601750884457,\n",
       "  -1334.925881097865,\n",
       "  -1263.7284013468166,\n",
       "  -1385.8796248373212,\n",
       "  -1379.5319725244794,\n",
       "  -718.4532515261506,\n",
       "  -1396.2049217140193,\n",
       "  -1450.257925530616,\n",
       "  -1111.9581510851826,\n",
       "  -1382.2727095649373,\n",
       "  -1344.1578950207033,\n",
       "  -1383.904920885122,\n",
       "  -1374.488128455544,\n",
       "  -1181.122296115135,\n",
       "  -1371.9903564696963,\n",
       "  -1072.3063365815308,\n",
       "  -1307.8244807112378,\n",
       "  -1322.3821332401371,\n",
       "  -1182.0691603225207,\n",
       "  -1383.1335288815342,\n",
       "  -1690.9797999639945,\n",
       "  -1524.7259167644995,\n",
       "  -1267.531752384355,\n",
       "  -1264.89798169112,\n",
       "  -1052.083620530242,\n",
       "  -1370.3976362138199,\n",
       "  -1379.713930788771,\n",
       "  -1386.3945420592606,\n",
       "  -1197.6419876731552,\n",
       "  -1731.0398545223513,\n",
       "  -1690.1616959410035,\n",
       "  -1727.7446025945287,\n",
       "  -1370.5587797227597,\n",
       "  -1237.1364250263791,\n",
       "  -916.4586009612208,\n",
       "  -973.062451892619,\n",
       "  -1479.6561402833802,\n",
       "  -1072.6957128482097,\n",
       "  -976.1631466927261,\n",
       "  -1305.8968139719675,\n",
       "  -1187.6049056134543,\n",
       "  -1332.9650632134503,\n",
       "  -1385.7633908211565,\n",
       "  -1049.4746452549994,\n",
       "  -1676.9929719014572,\n",
       "  -1169.2760256971642,\n",
       "  -1276.421528749986,\n",
       "  -1471.4749989718616,\n",
       "  -899.1051085825898,\n",
       "  -1699.1262844324822,\n",
       "  -1601.1870582660517,\n",
       "  -1062.2071181828364,\n",
       "  -1384.1523875769565,\n",
       "  -1307.192646213816,\n",
       "  -1153.1210236354273,\n",
       "  -1675.770442612307,\n",
       "  -1407.3987737751668,\n",
       "  -830.5417500957025,\n",
       "  -949.432969400705,\n",
       "  -1403.0267618144776,\n",
       "  -1025.0490396279276,\n",
       "  -1383.9233068678448,\n",
       "  -1426.1636230789613,\n",
       "  -983.3462134242399,\n",
       "  -1739.9778321135846,\n",
       "  -990.4835216476489,\n",
       "  -1386.920153499154,\n",
       "  -1195.0614921692786,\n",
       "  -1703.0159941950246,\n",
       "  -1235.596901360066,\n",
       "  -1383.6940109929326,\n",
       "  -1130.1278290316673,\n",
       "  -1255.4082002282871,\n",
       "  -1295.7646636687828,\n",
       "  -1386.3446798119578,\n",
       "  -1371.3890278915067,\n",
       "  -756.4374450529954,\n",
       "  -833.1890007888737,\n",
       "  -1389.042775466912,\n",
       "  -1461.4539505391647,\n",
       "  -1239.099578118765,\n",
       "  -1287.9345734186136,\n",
       "  -1139.878901249303,\n",
       "  -1184.831915811471,\n",
       "  -1663.1722997211941,\n",
       "  -1383.1025849644443,\n",
       "  -1377.5031039026942,\n",
       "  -1545.3625391138312,\n",
       "  -1385.1975910273,\n",
       "  -1570.499064174259,\n",
       "  -1243.4929017843976,\n",
       "  -1343.8211065587857,\n",
       "  -1267.6697681147773,\n",
       "  -1385.1014207600876,\n",
       "  -1055.7327501115826,\n",
       "  -1389.2636848248817,\n",
       "  -1435.9737987299882,\n",
       "  -1074.4926319688611,\n",
       "  -1202.024877527153,\n",
       "  -1173.3122197159319,\n",
       "  -1180.8658994234943,\n",
       "  -1284.9127564958042,\n",
       "  -1730.5874873759733,\n",
       "  -1427.4620311933857,\n",
       "  -1569.09782614611,\n",
       "  -1383.12821737344,\n",
       "  -1362.8747787976577,\n",
       "  -1020.7855543695797,\n",
       "  -1381.6826427976173,\n",
       "  -1689.694777529014,\n",
       "  -1381.4991361100933,\n",
       "  -1164.4382907408158,\n",
       "  -1385.2178697211818,\n",
       "  -795.6972567477202,\n",
       "  -1049.8906067613225,\n",
       "  -1668.115091406742,\n",
       "  -1330.667233936507,\n",
       "  -1282.9242625920538,\n",
       "  -985.5850769309002,\n",
       "  -1382.1984923262046,\n",
       "  -1399.2582050177039,\n",
       "  -1158.8111839447213,\n",
       "  -1380.878434827843,\n",
       "  -1138.2071057894739,\n",
       "  -1381.892526107214,\n",
       "  -1351.8946643968932,\n",
       "  -1373.2127266159398,\n",
       "  -948.9909242712729,\n",
       "  -1383.2679134328328,\n",
       "  -1382.0813649878962,\n",
       "  -1582.159782195452,\n",
       "  -1274.5158324819197,\n",
       "  -1185.5832344875441,\n",
       "  -1019.8050738764418,\n",
       "  -1389.4991635498445,\n",
       "  -1525.0560729293322,\n",
       "  -1396.6778060611189,\n",
       "  -945.9298843345016,\n",
       "  -1300.0386612131283,\n",
       "  -1190.2184928936251,\n",
       "  -1075.9012786038975,\n",
       "  -1390.2543376927633,\n",
       "  -1371.5659726569002,\n",
       "  -1479.507654568622,\n",
       "  -1384.805281134903,\n",
       "  -986.5772902848184,\n",
       "  -1387.843058175946,\n",
       "  -1378.006491946521,\n",
       "  -1270.64310768462,\n",
       "  -1733.6488164818684,\n",
       "  -1393.76599133017,\n",
       "  -1166.206058335315,\n",
       "  -1727.9222892925422,\n",
       "  -1511.0534646557712,\n",
       "  -1188.8491751614088,\n",
       "  -1384.7948054084652,\n",
       "  -1401.4119625841463,\n",
       "  -948.2751971376879,\n",
       "  -930.2985810086578,\n",
       "  -1537.7202217998927,\n",
       "  -1699.6189086159225,\n",
       "  -1145.0118719500979,\n",
       "  -1718.1593742745174,\n",
       "  -1349.8751750188067,\n",
       "  -1355.1348708583284,\n",
       "  -1234.6998589070427,\n",
       "  -1037.9227851589212,\n",
       "  -964.4731963388374,\n",
       "  -1696.6975233385956,\n",
       "  -1253.049459377902,\n",
       "  -1325.5208412192042,\n",
       "  -1392.032775265559,\n",
       "  -1209.4163969020142,\n",
       "  -1384.8747444345533,\n",
       "  -1568.672174165764,\n",
       "  -1740.177066512365,\n",
       "  -1167.1875798203557,\n",
       "  -1394.5238757588568,\n",
       "  -1635.8975067388008,\n",
       "  -1202.3659400053523,\n",
       "  -1375.1464005730713,\n",
       "  -1363.815640136885,\n",
       "  -1386.445196418579,\n",
       "  -1042.2384538976194,\n",
       "  -948.6553443757896,\n",
       "  -888.7534768579308,\n",
       "  -927.5991365056303,\n",
       "  -1223.8133651500577,\n",
       "  -1185.1587421553668,\n",
       "  -1178.0161473990224,\n",
       "  -1378.8541741546248,\n",
       "  -931.704426347004,\n",
       "  -1351.9280804895275,\n",
       "  -1064.3398786847097,\n",
       "  -1397.0672847179524,\n",
       "  -1166.758262314679,\n",
       "  -1378.030798611485,\n",
       "  -832.121129408694,\n",
       "  -1020.2524632624427,\n",
       "  -1581.345480400272,\n",
       "  -1635.20745045819,\n",
       "  -1200.6461712173752,\n",
       "  -1059.3275835225895,\n",
       "  -1374.2225399802128,\n",
       "  -998.1625021356144,\n",
       "  -1637.7166908908277,\n",
       "  -1208.1472201437336,\n",
       "  -1370.4693808341838,\n",
       "  -1701.396750165601,\n",
       "  -1300.9899018100884,\n",
       "  -1700.2102789238372,\n",
       "  -1302.8081368308103,\n",
       "  -1108.4623723296552,\n",
       "  -1619.7726222742701,\n",
       "  -1262.6286236770006,\n",
       "  -1416.1189012718914,\n",
       "  -1410.8012673305939,\n",
       "  -1509.6094449561974,\n",
       "  -1537.7460144957856,\n",
       "  -1438.792631871197,\n",
       "  -1382.2918217198628,\n",
       "  -1297.649545058044,\n",
       "  -1500.0504298701164,\n",
       "  -912.0269129695062,\n",
       "  -1167.945443690364,\n",
       "  -900.9422227808229,\n",
       "  -1276.0441932869176,\n",
       "  -1303.069382861366,\n",
       "  -942.1902846560473,\n",
       "  -1492.53368035871,\n",
       "  -896.8938123790983,\n",
       "  -966.270328831638,\n",
       "  -1214.2673512472388,\n",
       "  -1000.8102962114812,\n",
       "  -1388.9420802863694,\n",
       "  -948.3240001222781,\n",
       "  -1385.4651132217393,\n",
       "  -1326.0761852182673,\n",
       "  -1587.9440668013099,\n",
       "  -1217.6984430902965,\n",
       "  -1200.9713693669764,\n",
       "  -1659.9582865094985,\n",
       "  -1609.0154380456443,\n",
       "  -946.0792538694099,\n",
       "  -959.1738093739958,\n",
       "  -1683.2616462749884,\n",
       "  -1291.2079709932843,\n",
       "  -1390.0161695828003,\n",
       "  -1137.6250730432462,\n",
       "  -1344.496821103934,\n",
       "  -948.6775343510241,\n",
       "  -1377.8184733531284,\n",
       "  -1184.7201611161706,\n",
       "  -1376.861683208846,\n",
       "  -1318.9765135486755,\n",
       "  -951.3250318203209,\n",
       "  -1272.4027884976954,\n",
       "  -1391.4780721270436,\n",
       "  -1159.9323298105653,\n",
       "  -1389.3057807004418,\n",
       "  -1737.437430279904,\n",
       "  -1726.3834422482864,\n",
       "  -1380.2072747161533,\n",
       "  -1383.4497881282766,\n",
       "  -1385.0564308014568,\n",
       "  -1391.3549116266936,\n",
       "  -1097.12280164423,\n",
       "  -1178.489996942244,\n",
       "  -1382.6231351866393,\n",
       "  -1385.1802131527347,\n",
       "  -1359.5043656486957,\n",
       "  -1596.6608692331658,\n",
       "  -1435.34300954109,\n",
       "  -1061.1233486752096,\n",
       "  -1245.7360551256058,\n",
       "  -1310.1837913074694,\n",
       "  -1335.715380417959,\n",
       "  -1296.764999434845,\n",
       "  -1209.3840111663867,\n",
       "  -951.034118676019,\n",
       "  -1558.8632827683125,\n",
       "  -1354.2302415570423,\n",
       "  -1496.532051888708,\n",
       "  -1392.614072525321,\n",
       "  -1151.299100677255,\n",
       "  -1663.0552897115992,\n",
       "  -1097.2135348465324,\n",
       "  -1469.9349010382227,\n",
       "  -1656.619491601506,\n",
       "  -1382.3582389373423,\n",
       "  -1388.390104520669,\n",
       "  -1384.450932213861,\n",
       "  -1662.6108391934765,\n",
       "  -1380.97133893983,\n",
       "  -1168.5298017429448,\n",
       "  -1728.472808926404,\n",
       "  -1716.1091391161776,\n",
       "  -1382.4467392374345,\n",
       "  -1566.8439634836184,\n",
       "  -1136.5680466615315,\n",
       "  -1373.0255554659443,\n",
       "  -1392.0409532032788,\n",
       "  -1331.7047315123166,\n",
       "  -1386.0414380283673,\n",
       "  -1189.7413390183092,\n",
       "  -1588.9587078395223,\n",
       "  -947.7002862675822,\n",
       "  -1381.6040038477595,\n",
       "  -1382.3077657798224,\n",
       "  -1655.743957711602,\n",
       "  -1609.091805270094,\n",
       "  -1354.7594750807082,\n",
       "  -1697.2161221594408,\n",
       "  -1395.8189248085478,\n",
       "  -1354.1072384491379,\n",
       "  -1172.796616477275,\n",
       "  -1065.1716105636694,\n",
       "  -1202.4643852772242,\n",
       "  -1507.0690845752779,\n",
       "  -1063.1517095190534,\n",
       "  -1377.5458004095724,\n",
       "  -1128.161348629923,\n",
       "  -1332.9308540370434,\n",
       "  -1400.9557321398697,\n",
       "  -1391.11596813248,\n",
       "  -1725.742578608058,\n",
       "  -1528.1000981498935,\n",
       "  -1230.614209516748,\n",
       "  -1693.7731981926393,\n",
       "  -1204.9938310060556,\n",
       "  -1394.3325615674914,\n",
       "  -1382.8337742870406,\n",
       "  -1700.183576808007,\n",
       "  -1189.8016023062391,\n",
       "  -1613.679667346026,\n",
       "  -1378.0615495724771,\n",
       "  -1728.6033700490725,\n",
       "  -1386.7608686996098,\n",
       "  -1408.1383330054525,\n",
       "  -1351.853830783922,\n",
       "  -1430.0684060299839,\n",
       "  -1243.3511186320413,\n",
       "  -1565.579633060062,\n",
       "  -1385.9497467945146,\n",
       "  -1297.1149468659085,\n",
       "  -1381.5976538747395,\n",
       "  -1443.8404225309073,\n",
       "  -1305.4638658075185,\n",
       "  -1385.2171241978683,\n",
       "  -1386.854896471856,\n",
       "  -1447.851300576596,\n",
       "  -1732.6609766388447,\n",
       "  -1584.035680993971,\n",
       "  -1360.5399144996907,\n",
       "  -1326.1500408820914,\n",
       "  -1066.1627374031648,\n",
       "  -1411.0606121767994,\n",
       "  -1378.4951742027617,\n",
       "  -1381.100004389736,\n",
       "  -1377.9486505786354,\n",
       "  -1373.5478471608312,\n",
       "  -1065.0816903256684,\n",
       "  -897.3596990561368,\n",
       "  -1369.2460181691356,\n",
       "  -1153.7604497334103,\n",
       "  -1356.4639435914523,\n",
       "  -1383.016086659803,\n",
       "  -1734.3475797814215,\n",
       "  -1362.7049090712762,\n",
       "  -1309.7777681298612,\n",
       "  -1207.738265459465,\n",
       "  -1478.3706059279348,\n",
       "  -1268.6685131958297,\n",
       "  -1534.9906679069622,\n",
       "  -1374.6709189620044,\n",
       "  -1161.1724678017322,\n",
       "  -1174.872187133782,\n",
       "  -1106.0488935544013,\n",
       "  -1699.5918461655924,\n",
       "  -1554.7894785128797,\n",
       "  -939.0983634473383,\n",
       "  -1310.3177762444298,\n",
       "  -1055.3104261523345,\n",
       "  -1566.590435794958,\n",
       "  -1517.2508927199804,\n",
       "  -1144.4210267780384,\n",
       "  -1388.2926322038252,\n",
       "  -1562.611489968355,\n",
       "  -883.8676428973653,\n",
       "  -1173.6193429997645,\n",
       "  -1727.1918293594838,\n",
       "  -1389.7752304649266,\n",
       "  -1554.3896726440048,\n",
       "  -1324.3387166284117,\n",
       "  -1056.9710918573328,\n",
       "  -1494.0219793061808,\n",
       "  -1169.8957146969033,\n",
       "  -1290.4866818950138,\n",
       "  -1384.9717339208196,\n",
       "  -1381.034079054491,\n",
       "  -1733.1240789613844,\n",
       "  -1369.7306943552717,\n",
       "  -1245.343667654545,\n",
       "  -1126.9693992843643,\n",
       "  -1305.3939108354461,\n",
       "  -1379.6147351902334,\n",
       "  -1124.977451688404,\n",
       "  -1060.090945105874,\n",
       "  -1477.8531666968731,\n",
       "  -1384.1945002349714,\n",
       "  -1378.951481080868,\n",
       "  -1334.8082919448073,\n",
       "  -1731.4431498313972,\n",
       "  -1385.1481370966362,\n",
       "  -1403.5944971313515,\n",
       "  -1378.5312714249403,\n",
       "  -1340.6063088608028,\n",
       "  -1370.941643179873,\n",
       "  -1598.6591025123096,\n",
       "  -1369.3266959778693,\n",
       "  -1368.0305843800863,\n",
       "  -1057.5879135340838,\n",
       "  -1734.9999866350272,\n",
       "  -1545.842332081367,\n",
       "  -1736.1398167317582,\n",
       "  -1278.866249711069,\n",
       "  -950.0745454658264,\n",
       "  -1082.0234000497535,\n",
       "  -1280.8409988109627,\n",
       "  -1731.8631712208628,\n",
       "  -1594.1851553426743,\n",
       "  -1474.5207393477046,\n",
       "  -1727.241816945865,\n",
       "  -1344.3767020204875,\n",
       "  -1381.2323800948934,\n",
       "  -1365.8864233751399,\n",
       "  -1652.2083164195776,\n",
       "  -1728.2097950570867,\n",
       "  -1195.4764883712494,\n",
       "  -1395.3661520960416,\n",
       "  -1390.054384579875,\n",
       "  -1060.7688265279576,\n",
       "  -1378.9551982447235,\n",
       "  -1611.9473534876756,\n",
       "  -1408.717676082193,\n",
       "  -1382.3229796576927,\n",
       "  -834.3580827691745,\n",
       "  -1382.5193094794458,\n",
       "  -1385.260679149592,\n",
       "  -1253.9334677972151,\n",
       "  -1379.1015145480699,\n",
       "  -1708.7641425598729,\n",
       "  -1167.5106817851338,\n",
       "  -1085.5910053066455,\n",
       "  -1380.421097691352,\n",
       "  -1319.1318497221134,\n",
       "  -1116.4092745047963,\n",
       "  -1382.8646221151512,\n",
       "  -1612.7854063397158,\n",
       "  -1678.207365989669,\n",
       "  -1245.0565724125531,\n",
       "  -1499.4684128277313,\n",
       "  -1396.0009497937283,\n",
       "  -1383.7631192027343,\n",
       "  -1531.178293856967,\n",
       "  -1344.9032200416625,\n",
       "  -1727.0326963795776,\n",
       "  -1054.5241556177184,\n",
       "  -1402.5011905027682,\n",
       "  -1348.8576399556405,\n",
       "  -1726.6651509005155,\n",
       "  -1561.9955070259077,\n",
       "  -1740.3633943227724,\n",
       "  -951.4960644169435,\n",
       "  -1738.3644431277098,\n",
       "  -1513.821744897608,\n",
       "  -1714.3421540310076,\n",
       "  -1505.8613170579104,\n",
       "  -1484.1285963260302,\n",
       "  -1177.8852560840985,\n",
       "  -1364.984887144255,\n",
       "  -1608.8379577693374,\n",
       "  -1391.727517291575,\n",
       "  -1265.073430510452,\n",
       "  -1732.3979779181823,\n",
       "  -1629.1849041299927,\n",
       "  -910.363058688512,\n",
       "  -1389.5373022727656,\n",
       "  -1388.8766129469636,\n",
       "  -993.4514332932227,\n",
       "  -1648.778331572759,\n",
       "  -1222.7281946182388,\n",
       "  -1649.54120744729,\n",
       "  -1061.1126069877319,\n",
       "  -1370.4722106018169,\n",
       "  -1277.7621380485446,\n",
       "  -1367.5457403547116,\n",
       "  -1487.0948384742417,\n",
       "  -1362.0281836267095,\n",
       "  -1367.5629767399012,\n",
       "  -1735.7746735111018,\n",
       "  -1319.7540496939525,\n",
       "  -1645.303985456659,\n",
       "  -1378.737114256804,\n",
       "  -1625.9831804074988,\n",
       "  -1284.714039143653,\n",
       "  -948.0604685316806,\n",
       "  -1382.3280423491135,\n",
       "  -1170.4530002888066,\n",
       "  -951.2605011308768,\n",
       "  -1161.7858460487316,\n",
       "  -1143.1138489693435,\n",
       "  -1394.8840022741838,\n",
       "  -1362.2012700489627,\n",
       "  -1240.9066958880753,\n",
       "  -1068.6763453836463,\n",
       "  -1379.046878993545,\n",
       "  -1130.2130304069824,\n",
       "  -1382.7032952176628,\n",
       "  -1633.1036027512405,\n",
       "  -1330.8840676779005,\n",
       "  -949.2123626818494,\n",
       "  -1067.3960937057864,\n",
       "  -1476.4397444174442,\n",
       "  -1389.1275298531086,\n",
       "  -1626.244257832812,\n",
       "  -1734.1352790959636,\n",
       "  -1455.145368148208,\n",
       "  -1375.7045005547286,\n",
       "  -1380.3017342333528,\n",
       "  -1388.099554718544,\n",
       "  -1605.6528340349453,\n",
       "  -953.5990274066219,\n",
       "  -1047.0483863802526,\n",
       "  -1222.4829560511719,\n",
       "  -1067.0032520818697,\n",
       "  -1733.9579594289762,\n",
       "  -1444.5770968929053,\n",
       "  -1389.501196884324,\n",
       "  -1703.029857467822,\n",
       "  -1464.5117407861485,\n",
       "  -1341.966644841929,\n",
       "  -1373.073917755253,\n",
       "  -1703.2116173505508,\n",
       "  -1252.153025650783,\n",
       "  -1668.150490610786,\n",
       "  -1163.7959144830245,\n",
       "  -1379.4660351657203,\n",
       "  -1615.3248979168436,\n",
       "  -1726.7953403640868,\n",
       "  -1380.5023808946069,\n",
       "  -1371.6892793742222,\n",
       "  -1452.1894547176398,\n",
       "  -1375.1329304774117,\n",
       "  -1506.7692337441654,\n",
       "  -1377.3886997934947,\n",
       "  -1363.8496723387814,\n",
       "  -1210.4245535607065,\n",
       "  -1386.6667771541556,\n",
       "  -1381.2583163532158,\n",
       "  -1362.6821668378495,\n",
       "  -1367.6530238374507,\n",
       "  -1065.4547664755128,\n",
       "  -1488.1709546538505,\n",
       "  -1384.2447030688002,\n",
       "  -1495.5325880388523,\n",
       "  -1092.40572574931,\n",
       "  -1383.596382127652,\n",
       "  -1679.415907354757,\n",
       "  -1386.0127413813627,\n",
       "  -1722.6836428824702,\n",
       "  -1363.2662610089455,\n",
       "  -1713.9885874297502,\n",
       "  -1568.4849586593707,\n",
       "  -1524.7433921430804,\n",
       "  -1362.1035031154063,\n",
       "  -1734.2645758599328,\n",
       "  -1441.2496574090906,\n",
       "  -949.7187444761782,\n",
       "  -1384.2674417724652,\n",
       "  -1382.08046402138,\n",
       "  -1006.2426446186709,\n",
       "  -1382.780946285944,\n",
       "  -1690.2980797380385,\n",
       "  -1127.5715622365028,\n",
       "  -1333.6520001297533,\n",
       "  -1377.5395700191036,\n",
       "  -1364.7029669027138,\n",
       "  -1394.9245285943837,\n",
       "  -1382.7870612459958,\n",
       "  -1048.2429307496247,\n",
       "  -1683.4214756905637,\n",
       "  -1377.8680789514333,\n",
       "  -1393.6946148491838,\n",
       "  -1291.8062247604357,\n",
       "  -1375.4568213339726,\n",
       "  -1390.1438279597578,\n",
       "  -1146.7523485315191,\n",
       "  -1149.4272962238692,\n",
       "  -826.2453137097365,\n",
       "  -1072.5371426116208,\n",
       "  -1317.3790745520985,\n",
       "  -1211.839955056857,\n",
       "  -1381.8018942150825,\n",
       "  -1687.610798008491,\n",
       "  -1181.5531130434028,\n",
       "  -1288.1458144506282,\n",
       "  -1473.932489513825,\n",
       "  -1061.2810860354086,\n",
       "  -1053.8573484121232,\n",
       "  -1198.0321795813002,\n",
       "  -1280.13701259117,\n",
       "  -1160.2715263602884,\n",
       "  -1153.0472942758422,\n",
       "  -1384.8044553934744,\n",
       "  -1163.863182385602,\n",
       "  -1726.7690554252038,\n",
       "  -1720.6270088460387,\n",
       "  -1731.4773542046955,\n",
       "  -1707.8864072011625,\n",
       "  -1656.7110723673272,\n",
       "  -1118.6386835448516,\n",
       "  -1227.7507736495356,\n",
       "  -1712.6725123908777,\n",
       "  -1030.4047652799704,\n",
       "  -1382.6826859032815,\n",
       "  -1035.9680927210507,\n",
       "  -1216.9569951014284,\n",
       "  -1370.2022638127185,\n",
       "  -1385.2253896872846,\n",
       "  -1393.575053576752,\n",
       "  -1319.8463681026328,\n",
       "  -1226.1880445630536,\n",
       "  -1730.73219939061,\n",
       "  -1380.7651698374798,\n",
       "  -1458.366228256572,\n",
       "  -1307.483358704977,\n",
       "  -1385.9502198439045,\n",
       "  -959.642815275058,\n",
       "  -948.470143971664,\n",
       "  -1358.0503625304239,\n",
       "  -1381.4481140322616,\n",
       "  -1373.4887536522285,\n",
       "  -1632.1586071116024,\n",
       "  -1085.493528553485,\n",
       "  -947.8739232924049,\n",
       "  -1208.8330905106218,\n",
       "  -1261.5249753112769,\n",
       "  -1194.6847100447985,\n",
       "  -1350.8010501411009,\n",
       "  -1460.8622551006251,\n",
       "  -1656.7288652569953,\n",
       "  -1388.6220992656056,\n",
       "  -1301.8860822325537,\n",
       "  -1263.8853331939613,\n",
       "  -1231.1696732051582,\n",
       "  -1355.8498976510912,\n",
       "  -1183.189557904622,\n",
       "  -1698.2615429738366,\n",
       "  -1291.0787665429623,\n",
       "  -1034.4776041403743,\n",
       "  -1323.5621512335551,\n",
       "  -1720.4725443295788,\n",
       "  -1364.4094237041015,\n",
       "  -1165.0798168772271,\n",
       "  -1374.0358592101395,\n",
       "  -1317.9682894369753,\n",
       "  -1429.941278786721,\n",
       "  -1552.8943655067462,\n",
       "  -1157.9457636392888,\n",
       "  -1434.178661883382,\n",
       "  -1370.8083074832687,\n",
       "  -1234.441912305815,\n",
       "  -1485.970008110243,\n",
       "  -1369.8299119607211,\n",
       "  -1209.1778077942645,\n",
       "  -1377.4317132458925,\n",
       "  -1131.7422005907213,\n",
       "  -1061.8823036908634,\n",
       "  -1217.4875991173017,\n",
       "  -1736.306845071856,\n",
       "  -1375.0036688622945,\n",
       "  -1470.525238454311,\n",
       "  -1188.2436763830208,\n",
       "  -1322.659442756132,\n",
       "  -1601.4741635278424,\n",
       "  -1272.2068899732355,\n",
       "  -1177.906250884968,\n",
       "  -1730.4283124458282,\n",
       "  -1390.5636914814886,\n",
       "  -1646.5973801114949,\n",
       "  -1388.090802834473,\n",
       "  -1159.02516233783,\n",
       "  -1301.1621190088756,\n",
       "  -1004.042099243775,\n",
       "  -1735.3243036550616,\n",
       "  -1291.8306024177573,\n",
       "  -1730.875806234724,\n",
       "  -1491.0944319075688,\n",
       "  -1325.863569387056,\n",
       "  -1141.907296894614,\n",
       "  -1359.1478967685248,\n",
       "  -1317.2587503308218,\n",
       "  -1077.4159010168776,\n",
       "  -1113.175470965066,\n",
       "  -1172.0101539054654,\n",
       "  -830.0208884558706,\n",
       "  -1577.4303802834513,\n",
       "  -1274.7265942626152,\n",
       "  -1374.9203708200357,\n",
       "  -1353.22620957948,\n",
       "  -1383.6341987507924,\n",
       "  -1252.7499968356778,\n",
       "  -1519.3505918829342,\n",
       "  -1040.3012484782184,\n",
       "  -1390.2994435972685,\n",
       "  -1298.1625208935018,\n",
       "  -1692.6988799589565,\n",
       "  -1600.3134606941805,\n",
       "  -1385.4012137505754,\n",
       "  -1189.777154870476,\n",
       "  -1060.5154523640344,\n",
       "  -1100.5997796757526,\n",
       "  -1607.0591369585647,\n",
       "  -1624.0234677621308,\n",
       "  -1380.6136529040339,\n",
       "  -1572.0159613598573,\n",
       "  -1371.6136605761399,\n",
       "  -902.3294545208878,\n",
       "  -1629.176897819451,\n",
       "  -1064.706190865666,\n",
       "  -1734.5782276307443,\n",
       "  -1180.177705266733,\n",
       "  -1650.2821129861677,\n",
       "  -1116.645053568778,\n",
       "  -1385.973614969594,\n",
       "  -1072.985966145936,\n",
       "  -1739.3797622469376,\n",
       "  -1200.442249884329,\n",
       "  -1366.8037419142936,\n",
       "  -1193.0742625278847,\n",
       "  -1309.3065089833883,\n",
       "  -1207.8753194353258,\n",
       "  -1703.2979692862143,\n",
       "  -1307.5890101774864,\n",
       "  -1073.352567690199,\n",
       "  -1133.909360815964,\n",
       "  -1056.586763816127,\n",
       "  -1324.4032906611283,\n",
       "  -873.4560844575,\n",
       "  -1710.6615551043305,\n",
       "  -1390.9109603688212,\n",
       "  -1382.1397911356808,\n",
       "  -1655.945132644493,\n",
       "  -1443.6139925410932,\n",
       "  -1510.1200141653692,\n",
       "  -948.7520623270797,\n",
       "  -981.717016212269,\n",
       "  -1534.8535304082693,\n",
       "  -1578.430363404073,\n",
       "  -1375.8126654824027,\n",
       "  -864.9817088970718,\n",
       "  -1565.3656996168736,\n",
       "  -1342.836318468092,\n",
       "  -1299.3141011354924,\n",
       "  -951.8543082775743,\n",
       "  -1509.3933346324225,\n",
       "  -951.0539848711295,\n",
       "  -1385.5163257823783,\n",
       "  -1287.6730397839485,\n",
       "  -1366.2041825218266,\n",
       "  -1294.089586250097,\n",
       "  -1375.6498424812987,\n",
       "  -1366.8660075066555,\n",
       "  -1239.3237260463582,\n",
       "  -835.38072943061,\n",
       "  -1371.4249693974639,\n",
       "  -1730.2225977286712,\n",
       "  -1378.1149149554535,\n",
       "  -1658.2489488247202,\n",
       "  -1262.9890186138657,\n",
       "  -1154.6444637901977,\n",
       "  -1380.9956838777414,\n",
       "  -1509.0494791328715,\n",
       "  -1719.7061319489978,\n",
       "  -1373.757613105168,\n",
       "  -1374.7919515320857,\n",
       "  -1737.6327023533972,\n",
       "  -1382.9333440695925,\n",
       "  -1700.1764354725915,\n",
       "  -1381.318161915685,\n",
       "  -1062.8980115146076,\n",
       "  -1092.601564891381,\n",
       "  -1467.1362858054822,\n",
       "  -1306.5950146600596,\n",
       "  -1285.7089256163715,\n",
       "  -1137.162779580488,\n",
       "  -1511.30572483875,\n",
       "  -1371.3361660063406,\n",
       "  -861.143381310057,\n",
       "  -1737.6692195502333,\n",
       "  -1392.4103695998378,\n",
       "  -1371.1140122517136,\n",
       "  -1341.2545670361176,\n",
       "  -1379.7267555276505,\n",
       "  -1052.917800331279,\n",
       "  -1542.5386560992165,\n",
       "  -1730.8764311131222,\n",
       "  -1381.1937918893457,\n",
       "  -1207.4443080234958,\n",
       "  -1313.7898606757224,\n",
       "  -1482.603276753994,\n",
       "  -1377.939636440001,\n",
       "  -1521.5910240034186,\n",
       "  -1693.581102559607,\n",
       "  -948.5872961504627,\n",
       "  -1279.094768751699,\n",
       "  -1093.4653855475285,\n",
       "  -1378.7038184257747,\n",
       "  -1246.7999927927501,\n",
       "  -1372.198441825937,\n",
       "  -1064.0683963067252,\n",
       "  ...]}"
      ]
     },
     "execution_count": 52,
     "metadata": {},
     "output_type": "execute_result"
    }
   ],
   "source": [
    "agent00 = Agent(environment=\"Pendulum-v1\", discrete=False, gamma=0.99999, beta=0.1, h=[256, 128, 64], p=[32], v=[32])\n",
    "agent00.run(epochs=5000, dirs=\"test_pendulum00\")"
   ]
  },
  {
   "cell_type": "code",
   "execution_count": 47,
   "id": "ab44dc21",
   "metadata": {},
   "outputs": [
    {
     "data": {
      "text/plain": [
       "[<matplotlib.lines.Line2D at 0x7f3b1ce40700>]"
      ]
     },
     "execution_count": 47,
     "metadata": {},
     "output_type": "execute_result"
    },
    {
     "data": {
      "image/png": "[encoded data removed]",
      "text/plain": [
       "<Figure size 432x288 with 1 Axes>"
      ]
     },
     "metadata": {
      "needs_background": "light"
     },
     "output_type": "display_data"
    }
   ],
   "source": [
    "plt.plot(np.convolve(agent00.history['score'], np.ones(100)/100))"
   ]
  },
  {
   "cell_type": "code",
   "execution_count": null,
   "id": "3e7c3acb",
   "metadata": {},
   "outputs": [],
   "source": []
  },
  {
   "cell_type": "code",
   "execution_count": 51,
   "id": "4de1232d",
   "metadata": {},
   "outputs": [
    {
     "name": "stderr",
     "output_type": "stream",
     "text": [
      "100%|█████████████████████████████████████████████| 1/1 [00:00<00:00,  5.44it/s]"
     ]
    },
    {
     "name": "stdout",
     "output_type": "stream",
     "text": [
      "Reward: 500.0\n"
     ]
    },
    {
     "name": "stderr",
     "output_type": "stream",
     "text": [
      "\n"
     ]
    },
    {
     "data": {
      "text/html": [],
      "text/plain": [
       "<IPython.core.display.HTML object>"
      ]
     },
     "metadata": {},
     "output_type": "display_data"
    }
   ],
   "source": [
    "#agent.load_best()\n",
    "agent0.save_video()"
   ]
  },
  {
   "cell_type": "code",
   "execution_count": null,
   "id": "5889ddaa",
   "metadata": {},
   "outputs": [],
   "source": [
    "class ActorCritic(nn.Module):\n",
    "    def __init__(self, observation_space, action_space, hidden_layers=[512,256],\n",
    "                 policy_activation=None, activations=nn.ReLU):\n",
    "        super().__init__()\n",
    "        \n",
    "        # Write down hidden layers dimensions\n",
    "        self.hidden_layers_dimensions = hidden_layers\n",
    "        self.policy_activation_ = policy_activation\n",
    "        self.activations = activations\n",
    "        \n",
    "        # Initialize the common model\n",
    "        self.model = nn.ModuleList()\n",
    "        layers = [observation_space] + hidden_layers + [action_space]\n",
    "        for i, layer in enumerate(layers)[1:]:\n",
    "            self.model.append(nn.Linear(layers[i-1], layers[i]))\n",
    "        \n",
    "        # Enpoind for policy\n",
    "        self.policy = nn.Linear(hidden_layers[1], action_space)\n",
    "        if self.policy_activation_:\n",
    "            self.policy_activation = self.policy_activation_(action_space)\n",
    "        # Endpoint for values\n",
    "        self.value = nn.Linear(hidden_layers[1], 1)\n",
    "        \n",
    "    def forward(self, x):\n",
    "        # Apply common model\n",
    "        for layer in self.model:\n",
    "            x = self.activations(layer(x))\n",
    "        # Get value output\n",
    "        value = self.value(x)\n",
    "        # Get policy output\n",
    "        policy = self.policy(x)\n",
    "        if self.policy_activation_:\n",
    "            policy = self.policy_activation(policy)\n",
    "        return value, policy"
   ]
  }
 ],
 "metadata": {
  "kernelspec": {
   "display_name": "Python 3 (ipykernel)",
   "language": "python",
   "name": "python3"
  },
  "language_info": {
   "codemirror_mode": {
    "name": "ipython",
    "version": 3
   },
   "file_extension": ".py",
   "mimetype": "text/x-python",
   "name": "python",
   "nbconvert_exporter": "python",
   "pygments_lexer": "ipython3",
   "version": "3.8.12"
  }
 },
 "nbformat": 4,
 "nbformat_minor": 5
}
